{
 "cells": [
  {
   "cell_type": "code",
   "execution_count": 2,
   "metadata": {},
   "outputs": [],
   "source": [
    "import numpy as np"
   ]
  },
  {
   "cell_type": "markdown",
   "metadata": {},
   "source": [
    "# Створення різних типів масивів"
   ]
  },
  {
   "cell_type": "code",
   "execution_count": 3,
   "metadata": {},
   "outputs": [],
   "source": [
    "arr_arange = np.arange(1,11)\n",
    "arr_rand_int = np.random.randint(10, size = (4,4))\n",
    "arr_rand_decimal = np.random.rand(4,4,2)\n",
    "arr_zero = np.zeros((4,4))\n",
    "arr_ones = np.ones((4,4))"
   ]
  },
  {
   "cell_type": "code",
   "execution_count": 4,
   "metadata": {},
   "outputs": [
    {
     "name": "stdout",
     "output_type": "stream",
     "text": [
      "Вектор за допомогою функціі arange:\n",
      "[ 1  2  3  4  5  6  7  8  9 10]\n",
      "Двомвимірний масив за допомогою функціі random.randint, що генерує цілі числа:\n",
      "[[4 9 7 2]\n",
      " [4 3 9 3]\n",
      " [2 0 6 6]\n",
      " [1 6 0 0]]\n",
      "Трьохвимірний масив за допомогою функціі random.rand, що генерує десяткові числа:\n",
      "[[[0.71094969 0.99523667]\n",
      "  [0.02859071 0.85403974]\n",
      "  [0.31044984 0.21843413]\n",
      "  [0.73058981 0.61965306]]\n",
      "\n",
      " [[0.42607411 0.79929107]\n",
      "  [0.17189483 0.92953698]\n",
      "  [0.32210079 0.49328288]\n",
      "  [0.62117218 0.40825532]]\n",
      "\n",
      " [[0.05735405 0.99397833]\n",
      "  [0.90389241 0.03742141]\n",
      "  [0.7412766  0.8166447 ]\n",
      "  [0.54777745 0.80149123]]\n",
      "\n",
      " [[0.24270526 0.82676551]\n",
      "  [0.58097517 0.4239511 ]\n",
      "  [0.22206869 0.83837986]\n",
      "  [0.47096564 0.53377324]]]\n",
      "Двомвимірний масив за допомогою функціі zeros, що генерує масив з нульовими елементами:\n",
      "[[0. 0. 0. 0.]\n",
      " [0. 0. 0. 0.]\n",
      " [0. 0. 0. 0.]\n",
      " [0. 0. 0. 0.]]\n",
      "Двомвимірний масив за допомогою функцій ones, що генерує масив, який складається тільки з одиниць:\n",
      "[[1. 1. 1. 1.]\n",
      " [1. 1. 1. 1.]\n",
      " [1. 1. 1. 1.]\n",
      " [1. 1. 1. 1.]]\n"
     ]
    }
   ],
   "source": [
    "print(\"Вектор за допомогою функціі arange:\")\n",
    "print(arr_arange)\n",
    "print(\"Двомвимірний масив за допомогою функціі random.randint, що генерує цілі числа:\")\n",
    "print(arr_rand_int)\n",
    "print(\"Трьохвимірний масив за допомогою функціі random.rand, що генерує десяткові числа:\")\n",
    "print(arr_rand_decimal)\n",
    "print(\"Двомвимірний масив за допомогою функціі zeros, що генерує масив з нульовими елементами:\")\n",
    "print(arr_zero)\n",
    "print(\"Двомвимірний масив за допомогою функцій ones, що генерує масив, який складається тільки з одиниць:\")\n",
    "print(arr_ones)"
   ]
  },
  {
   "cell_type": "markdown",
   "metadata": {},
   "source": [
    "# Зберігання у файл та читання з файлу     "
   ]
  },
  {
   "cell_type": "code",
   "execution_count": 5,
   "metadata": {},
   "outputs": [
    {
     "name": "stdout",
     "output_type": "stream",
     "text": [
      "Зчитаний вектор з файлу: [ 1  2  3  4  5  6  7  8  9 10]\n"
     ]
    }
   ],
   "source": [
    "arr = np.save('saving.npy',arr_arange)\n",
    "output = np.load('saving.npy')\n",
    "print(\"Зчитаний вектор з файлу:\", output)"
   ]
  },
  {
   "cell_type": "markdown",
   "metadata": {},
   "source": [
    "# Різні операції з матрицями"
   ]
  },
  {
   "cell_type": "code",
   "execution_count": 6,
   "metadata": {},
   "outputs": [
    {
     "name": "stdout",
     "output_type": "stream",
     "text": [
      "Перша матриця: [[1 2]\n",
      " [4 5]]\n",
      "Друга матриця: [[ 7  8]\n",
      " [ 9 10]]\n",
      "Сума двох матриць:\n",
      "[[ 8 10]\n",
      " [13 15]]\n",
      "Різниця двох матриць: \n",
      "[[-6 -6]\n",
      " [-5 -5]]\n",
      "Частка двох матриць: \n",
      "[[0.14285714 0.25      ]\n",
      " [0.44444444 0.5       ]]\n",
      "Множення матриць поелементно: \n",
      "[[ 7 16]\n",
      " [36 50]]\n",
      "Добуток матриць: \n",
      "[[25 28]\n",
      " [73 82]]\n",
      "Добуток матриці на скаляр: \n",
      "[[ 3  6]\n",
      " [12 15]]\n",
      "Квадратний корінь з  першої матриці:\n",
      "[[1.         1.41421356]\n",
      " [2.         2.23606798]]\n",
      "Сума елементів другої матриці: \n",
      "34\n",
      "Сума елементів по стовбцям першої матриці: \n",
      "[5 7]\n",
      "Сума елементів по рядкам другої матриці: \n",
      "[15 19]\n",
      "Транспонування першої матриці: \n",
      "[[1 4]\n",
      " [2 5]]\n"
     ]
    }
   ],
   "source": [
    "arr1 = np.array([[1, 2], [4, 5]])\n",
    "arr2 = np.array([[7, 8], [9, 10]])\n",
    "print(\"Перша матриця:\", arr1)\n",
    "print(\"Друга матриця:\", arr2)\n",
    "print (\"Сума двох матриць:\")\n",
    "print (np.add(arr1,arr2))\n",
    "print (\"Різниця двох матриць: \")\n",
    "print (np.subtract(arr1,arr2))\n",
    "print (\"Частка двох матриць: \")\n",
    "print (np.divide(arr1,arr2))\n",
    "print (\"Множення матриць поелементно: \")\n",
    "print (np.multiply(arr1,arr2))\n",
    "print (\"Добуток матриць: \")\n",
    "print (np.dot(arr1,arr2))\n",
    "print (\"Добуток матриці на скаляр: \")\n",
    "print (3*arr1)\n",
    "print (\"Квадратний корінь з  першої матриці:\")\n",
    "print (np.sqrt(arr1))\n",
    "print (\"Сума елементів другої матриці: \")\n",
    "print (np.sum(arr2))\n",
    "print (\"Сума елементів по стовбцям першої матриці: \")\n",
    "print (np.sum(arr1,axis=0))\n",
    "print (\"Сума елементів по рядкам другої матриці: \")\n",
    "print (np.sum(arr2,axis=1))\n",
    "print (\"Транспонування першої матриці: \")\n",
    "print (np.transpose(arr1))"
   ]
  },
  {
   "cell_type": "markdown",
   "metadata": {},
   "source": [
    "# Видалення даних у numpy"
   ]
  },
  {
   "cell_type": "code",
   "execution_count": 10,
   "metadata": {},
   "outputs": [
    {
     "name": "stdout",
     "output_type": "stream",
     "text": [
      "Початковий вектор:\n",
      "[ 1  2  3  4  5  6  7  8  9 10]\n",
      "Вектор після видалення елементів:\n",
      "[ 1  3  5  7  8  9 10]\n"
     ]
    }
   ],
   "source": [
    "vector = np.arange(1,11)\n",
    "print(\"Початковий вектор:\")\n",
    "print(vector)\n",
    "vector_new = np.delete(vector,[1,3,5])\n",
    "print(\"Вектор після видалення елементів:\")\n",
    "print(vector_new)"
   ]
  }
 ],
 "metadata": {
  "kernelspec": {
   "display_name": "Python 3",
   "language": "python",
   "name": "python3"
  },
  "language_info": {
   "codemirror_mode": {
    "name": "ipython",
    "version": 3
   },
   "file_extension": ".py",
   "mimetype": "text/x-python",
   "name": "python",
   "nbconvert_exporter": "python",
   "pygments_lexer": "ipython3",
   "version": "3.8.5"
  }
 },
 "nbformat": 4,
 "nbformat_minor": 4
}
