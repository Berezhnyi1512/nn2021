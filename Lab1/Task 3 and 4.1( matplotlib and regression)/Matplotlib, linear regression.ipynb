{
 "cells": [
  {
   "cell_type": "code",
   "execution_count": 163,
   "metadata": {},
   "outputs": [],
   "source": [
    "import matplotlib.pyplot as plt\n",
    "%matplotlib inline\n",
    "import numpy as np\n",
    "import csv\n",
    "from random import random,randint\n",
    "from sklearn.metrics import mean_squared_error, mean_absolute_error\n",
    "from sklearn.linear_model import LinearRegression"
   ]
  },
  {
   "cell_type": "markdown",
   "metadata": {},
   "source": [
    "## Побудуємо функцію виду  y = ax+b"
   ]
  },
  {
   "cell_type": "code",
   "execution_count": 164,
   "metadata": {},
   "outputs": [
    {
     "name": "stdout",
     "output_type": "stream",
     "text": [
      "x =  [0.169, 0.33, 0.94, 0.523, 0.252, 0.287, 0.158, 0.312, 0.108, 0.368, 0.652, 0.621, 0.787, 0.55, 0.996, 0.156, 0.321, 0.651, 0.309, 0.832, 0.998, 0.169, 0.295, 0.25, 0.645, 0.384, 0.412, 0.035, 0.118, 0.675, 0.578, 0.391, 0.649, 0.592, 0.598, 0.258, 0.144, 0.616, 0.93, 0.509, 0.405, 0.924, 0.276, 0.838, 0.519, 0.488, 0.635, 0.376, 0.29, 0.665]\n",
      "a =  69\n",
      "b =  7\n",
      "y =  [18.661, 29.77, 71.86, 43.087, 24.388, 26.802999999999997, 17.902, 28.528, 14.452, 32.391999999999996, 51.988, 49.849, 61.303000000000004, 44.95, 75.724, 17.764, 29.149, 51.919000000000004, 28.321, 64.40799999999999, 75.862, 18.661, 27.355, 24.25, 51.505, 33.496, 35.428, 9.415, 15.142, 53.575, 46.882, 33.979, 51.781, 47.848, 48.262, 24.802, 16.936, 49.504, 71.17, 42.121, 34.945, 70.756, 26.044, 64.822, 42.811, 40.672, 50.815, 32.944, 27.009999999999998, 52.885000000000005]\n"
     ]
    }
   ],
   "source": [
    " \n",
    "a = randint(0, 100)\n",
    "x = []\n",
    "\n",
    "for i in range(50):\n",
    "    x.append(round(random(),3))\n",
    "\n",
    "b = randint(0, 17)\n",
    "y = [a*i+b for i in x]\n",
    "\n",
    "print(\"x = \", x)\n",
    "print(\"a = \", a)\n",
    "print(\"b = \", b)\n",
    "print(\"y = \", y)"
   ]
  },
  {
   "cell_type": "markdown",
   "metadata": {},
   "source": [
    "### Конвертуємо 1d масив в 2d масив, оскільки Scikit не працює з 1d масивами, а для побудови лінійної регресії потрібна ця бібліотека"
   ]
  },
  {
   "cell_type": "code",
   "execution_count": 165,
   "metadata": {},
   "outputs": [],
   "source": [
    "x_new = np.reshape(x, (-1, 2))\n",
    "y_new = np.reshape(y, (-1, 2))"
   ]
  },
  {
   "cell_type": "markdown",
   "metadata": {},
   "source": [
    "## Побудова лінійної регресії"
   ]
  },
  {
   "cell_type": "code",
   "execution_count": 166,
   "metadata": {},
   "outputs": [
    {
     "name": "stdout",
     "output_type": "stream",
     "text": [
      "Y початкове: [18.661, 29.77, 71.86, 43.087, 24.388, 26.802999999999997, 17.902, 28.528, 14.452, 32.391999999999996, 51.988, 49.849, 61.303000000000004, 44.95, 75.724, 17.764, 29.149, 51.919000000000004, 28.321, 64.40799999999999, 75.862, 18.661, 27.355, 24.25, 51.505, 33.496, 35.428, 9.415, 15.142, 53.575, 46.882, 33.979, 51.781, 47.848, 48.262, 24.802, 16.936, 49.504, 71.17, 42.121, 34.945, 70.756, 26.044, 64.822, 42.811, 40.672, 50.815, 32.944, 27.009999999999998, 52.885000000000005]\n",
      "-------------------------------------------\n",
      "Y, що обраховано лінійною регресією: [[18.661 29.77 ]\n",
      " [71.86  43.087]\n",
      " [24.388 26.803]\n",
      " [17.902 28.528]\n",
      " [14.452 32.392]\n",
      " [51.988 49.849]\n",
      " [61.303 44.95 ]\n",
      " [75.724 17.764]\n",
      " [29.149 51.919]\n",
      " [28.321 64.408]\n",
      " [75.862 18.661]\n",
      " [27.355 24.25 ]\n",
      " [51.505 33.496]\n",
      " [35.428  9.415]\n",
      " [15.142 53.575]\n",
      " [46.882 33.979]\n",
      " [51.781 47.848]\n",
      " [48.262 24.802]\n",
      " [16.936 49.504]\n",
      " [71.17  42.121]\n",
      " [34.945 70.756]\n",
      " [26.044 64.822]\n",
      " [42.811 40.672]\n",
      " [50.815 32.944]\n",
      " [27.01  52.885]]\n"
     ]
    }
   ],
   "source": [
    "reg = LinearRegression()\n",
    "reg.fit(x_new ,y_new)\n",
    "Y_hat = reg.predict(x_new)\n",
    "print(\"Y початкове:\", y)\n",
    "print(\"-------------------------------------------\")\n",
    "print(\"Y, що обраховано лінійною регресією:\", Y_hat)"
   ]
  },
  {
   "cell_type": "markdown",
   "metadata": {},
   "source": [
    "## Обрахунок MSE та MAE"
   ]
  },
  {
   "cell_type": "code",
   "execution_count": 167,
   "metadata": {},
   "outputs": [
    {
     "name": "stdout",
     "output_type": "stream",
     "text": [
      "MSE =  9.277004245399098e-29\n",
      "MAE =  7.887024366937111e-15\n"
     ]
    }
   ],
   "source": [
    "square_err = mean_squared_error(y_new,Y_hat)\n",
    "print(\"MSE = \", square_err )\n",
    "abs_err = mean_absolute_error(y_new,Y_hat)\n",
    "print(\"MAE = \", abs_err )"
   ]
  },
  {
   "cell_type": "markdown",
   "metadata": {},
   "source": [
    "## Графік, де чорні точки - дані, що отримані внаслідок аналітичного обрахунку лінійної функції, а синя лінія - лінійна регресія"
   ]
  },
  {
   "cell_type": "code",
   "execution_count": 168,
   "metadata": {},
   "outputs": [
    {
     "data": {
      "image/png": "[encoded data removed]",
      "text/plain": [
       "<Figure size 432x288 with 1 Axes>"
      ]
     },
     "metadata": {
      "needs_background": "light"
     },
     "output_type": "display_data"
    }
   ],
   "source": [
    "plt.scatter(x, y,  color='black')\n",
    "plt.grid()\n",
    "plt.plot(x_new, Y_hat, color='blue', linewidth=3)\n",
    "plt.xlabel(\"x\",fontsize=20)\n",
    "plt.ylabel(\"y\",fontsize=20)\n",
    "plt.show()"
   ]
  },
  {
   "cell_type": "markdown",
   "metadata": {},
   "source": [
    "## Імпорт результатів у csv файл"
   ]
  },
  {
   "cell_type": "code",
   "execution_count": 170,
   "metadata": {},
   "outputs": [],
   "source": [
    "headers = ['X', 'Y', 'Y_hat', 'MSE', 'MAE']\n",
    "Y_hat = Y_hat.flatten()\n",
    "with open('lab4_regression_results.csv', 'w', encoding='UTF8', newline='') as f:\n",
    "    writer = csv.writer(f)\n",
    "    writer.writerow(headers)\n",
    "    for i in range(25):\n",
    "        data = [x[i],y[i],round(Y_hat[i],3),square_err,abs_err]\n",
    "        writer.writerow(data)"
   ]
  },
  {
   "cell_type": "code",
   "execution_count": null,
   "metadata": {},
   "outputs": [],
   "source": []
  }
 ],
 "metadata": {
  "kernelspec": {
   "display_name": "Python 3",
   "language": "python",
   "name": "python3"
  },
  "language_info": {
   "codemirror_mode": {
    "name": "ipython",
    "version": 3
   },
   "file_extension": ".py",
   "mimetype": "text/x-python",
   "name": "python",
   "nbconvert_exporter": "python",
   "pygments_lexer": "ipython3",
   "version": "3.8.5"
  }
 },
 "nbformat": 4,
 "nbformat_minor": 4
}
