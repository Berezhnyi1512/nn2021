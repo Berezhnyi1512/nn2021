{
 "cells": [
  {
   "cell_type": "markdown",
   "id": "a36c91d1",
   "metadata": {},
   "source": [
    "## Лабораторна робота №3\n",
    "з дисципліни \"Нейронні мережі\"\n",
    "  \n",
    "студента групи АнД-41\n",
    "  \n",
    "Бережного Дмитра\n",
    "\n",
    "### Варіант № 2"
   ]
  },
  {
   "cell_type": "markdown",
   "id": "e7057551",
   "metadata": {},
   "source": [
    "## Завдання\n",
    "\n",
    "На основі документу вирішити завдання класифікації для набору даних Fashion MNIST.\n",
    "\n",
    "Для моделювання використати 3 класи індекси яких взяти відповідно до номеру у списку групи у наведеній нижче таблиці.\n",
    "\n",
    "Моделювання провести із використанням нейронної мережі (Flatten & Dense layers).\n",
    "\n",
    "Здійснити вибір оптимального кроку градієнтного алгоритму (learning_rate), а також побудову Confusion Matrix.\n",
    "\n",
    "Результати оформити у вигляді файлу з кодом для моделювання та візуалізації у форматі .ipynb\n",
    "\n",
    "Результати викласти у репозиторії GitHub (папка Lab3).\n",
    "\n",
    "Підготуватися до захисту лабораторрної роботи (пояснення коду, відповіді на запитання за темою)\n",
    "#### Індекси за варіантом: 1,4,8"
   ]
  },
  {
   "cell_type": "code",
   "execution_count": 462,
   "id": "cc48b6bf",
   "metadata": {},
   "outputs": [],
   "source": [
    "import matplotlib.pyplot as plt\n",
    "import pandas as pd\n",
    "import numpy as np\n",
    "from sklearn import metrics\n",
    "import tensorflow as tf\n",
    "from tensorflow.keras.datasets import fashion_mnist\n",
    "from tensorflow.keras import Sequential\n",
    "from tensorflow.keras.layers import Dense\n",
    "from tensorflow.keras.optimizers import Adam"
   ]
  },
  {
   "cell_type": "markdown",
   "id": "abcfda13",
   "metadata": {},
   "source": [
    "### Імпорт датасету"
   ]
  },
  {
   "cell_type": "code",
   "execution_count": 463,
   "id": "22152f5c",
   "metadata": {},
   "outputs": [],
   "source": [
    "(train_data, train_labels), (test_data, test_labels) = fashion_mnist.load_data()"
   ]
  },
  {
   "cell_type": "markdown",
   "id": "9f72c9fd",
   "metadata": {},
   "source": [
    "### Розмірність даних"
   ]
  },
  {
   "cell_type": "code",
   "execution_count": 464,
   "id": "ef0dc20d",
   "metadata": {},
   "outputs": [
    {
     "name": "stdout",
     "output_type": "stream",
     "text": [
      "Train data shape:  (60000, 28, 28) ; Train labels shape:  (60000,)\n",
      "Test data shape:  (10000, 28, 28) ; Test labels shape:  (10000,)\n"
     ]
    }
   ],
   "source": [
    "print(\"Train data shape: \",train_data.shape, \";\", \"Train labels shape: \",train_labels.shape)\n",
    "print(\"Test data shape: \",test_data.shape, \";\", \"Test labels shape: \",test_labels.shape)"
   ]
  },
  {
   "cell_type": "markdown",
   "id": "defa2e3c",
   "metadata": {},
   "source": [
    "### Номер класів датасету і що вони відображають"
   ]
  },
  {
   "attachments": {
    "%D0%B7%D0%BE%D0%B1%D1%80%D0%B0%D0%B6%D0%B5%D0%BD%D0%BD%D1%8F.png": {
     "image/png": "[encoded data removed]"
    }
   },
   "cell_type": "markdown",
   "id": "863c431e",
   "metadata": {},
   "source": [
    "![%D0%B7%D0%BE%D0%B1%D1%80%D0%B0%D0%B6%D0%B5%D0%BD%D0%BD%D1%8F.png](attachment:%D0%B7%D0%BE%D0%B1%D1%80%D0%B0%D0%B6%D0%B5%D0%BD%D0%BD%D1%8F.png)"
   ]
  },
  {
   "cell_type": "markdown",
   "id": "518e54a4",
   "metadata": {},
   "source": [
    "### Виведемо перший зразок у даних"
   ]
  },
  {
   "cell_type": "code",
   "execution_count": 465,
   "id": "838193e7",
   "metadata": {},
   "outputs": [
    {
     "data": {
      "text/plain": [
       "array([[  0,   0,   0,   0,   0,   0,   0,   0,   0,   0,   0,   0,   0,\n",
       "          0,   0,   0,   0,   0,   0,   0,   0,   0,   0,   0,   0,   0,\n",
       "          0,   0],\n",
       "       [  0,   0,   0,   0,   0,   0,   0,   0,   0,   0,   0,   0,   0,\n",
       "          0,   0,   0,   0,   0,   0,   0,   0,   0,   0,   0,   0,   0,\n",
       "          0,   0],\n",
       "       [  0,   0,   0,   0,   0,   0,   0,   0,   0,   0,   0,   0,   0,\n",
       "          0,   0,   0,   0,   0,   0,   0,   0,   0,   0,   0,   0,   0,\n",
       "          0,   0],\n",
       "       [  0,   0,   0,   0,   0,   0,   0,   0,   0,   0,   0,   0,   1,\n",
       "          0,   0,  13,  73,   0,   0,   1,   4,   0,   0,   0,   0,   1,\n",
       "          1,   0],\n",
       "       [  0,   0,   0,   0,   0,   0,   0,   0,   0,   0,   0,   0,   3,\n",
       "          0,  36, 136, 127,  62,  54,   0,   0,   0,   1,   3,   4,   0,\n",
       "          0,   3],\n",
       "       [  0,   0,   0,   0,   0,   0,   0,   0,   0,   0,   0,   0,   6,\n",
       "          0, 102, 204, 176, 134, 144, 123,  23,   0,   0,   0,   0,  12,\n",
       "         10,   0],\n",
       "       [  0,   0,   0,   0,   0,   0,   0,   0,   0,   0,   0,   0,   0,\n",
       "          0, 155, 236, 207, 178, 107, 156, 161, 109,  64,  23,  77, 130,\n",
       "         72,  15],\n",
       "       [  0,   0,   0,   0,   0,   0,   0,   0,   0,   0,   0,   1,   0,\n",
       "         69, 207, 223, 218, 216, 216, 163, 127, 121, 122, 146, 141,  88,\n",
       "        172,  66],\n",
       "       [  0,   0,   0,   0,   0,   0,   0,   0,   0,   1,   1,   1,   0,\n",
       "        200, 232, 232, 233, 229, 223, 223, 215, 213, 164, 127, 123, 196,\n",
       "        229,   0],\n",
       "       [  0,   0,   0,   0,   0,   0,   0,   0,   0,   0,   0,   0,   0,\n",
       "        183, 225, 216, 223, 228, 235, 227, 224, 222, 224, 221, 223, 245,\n",
       "        173,   0],\n",
       "       [  0,   0,   0,   0,   0,   0,   0,   0,   0,   0,   0,   0,   0,\n",
       "        193, 228, 218, 213, 198, 180, 212, 210, 211, 213, 223, 220, 243,\n",
       "        202,   0],\n",
       "       [  0,   0,   0,   0,   0,   0,   0,   0,   0,   1,   3,   0,  12,\n",
       "        219, 220, 212, 218, 192, 169, 227, 208, 218, 224, 212, 226, 197,\n",
       "        209,  52],\n",
       "       [  0,   0,   0,   0,   0,   0,   0,   0,   0,   0,   6,   0,  99,\n",
       "        244, 222, 220, 218, 203, 198, 221, 215, 213, 222, 220, 245, 119,\n",
       "        167,  56],\n",
       "       [  0,   0,   0,   0,   0,   0,   0,   0,   0,   4,   0,   0,  55,\n",
       "        236, 228, 230, 228, 240, 232, 213, 218, 223, 234, 217, 217, 209,\n",
       "         92,   0],\n",
       "       [  0,   0,   1,   4,   6,   7,   2,   0,   0,   0,   0,   0, 237,\n",
       "        226, 217, 223, 222, 219, 222, 221, 216, 223, 229, 215, 218, 255,\n",
       "         77,   0],\n",
       "       [  0,   3,   0,   0,   0,   0,   0,   0,   0,  62, 145, 204, 228,\n",
       "        207, 213, 221, 218, 208, 211, 218, 224, 223, 219, 215, 224, 244,\n",
       "        159,   0],\n",
       "       [  0,   0,   0,   0,  18,  44,  82, 107, 189, 228, 220, 222, 217,\n",
       "        226, 200, 205, 211, 230, 224, 234, 176, 188, 250, 248, 233, 238,\n",
       "        215,   0],\n",
       "       [  0,  57, 187, 208, 224, 221, 224, 208, 204, 214, 208, 209, 200,\n",
       "        159, 245, 193, 206, 223, 255, 255, 221, 234, 221, 211, 220, 232,\n",
       "        246,   0],\n",
       "       [  3, 202, 228, 224, 221, 211, 211, 214, 205, 205, 205, 220, 240,\n",
       "         80, 150, 255, 229, 221, 188, 154, 191, 210, 204, 209, 222, 228,\n",
       "        225,   0],\n",
       "       [ 98, 233, 198, 210, 222, 229, 229, 234, 249, 220, 194, 215, 217,\n",
       "        241,  65,  73, 106, 117, 168, 219, 221, 215, 217, 223, 223, 224,\n",
       "        229,  29],\n",
       "       [ 75, 204, 212, 204, 193, 205, 211, 225, 216, 185, 197, 206, 198,\n",
       "        213, 240, 195, 227, 245, 239, 223, 218, 212, 209, 222, 220, 221,\n",
       "        230,  67],\n",
       "       [ 48, 203, 183, 194, 213, 197, 185, 190, 194, 192, 202, 214, 219,\n",
       "        221, 220, 236, 225, 216, 199, 206, 186, 181, 177, 172, 181, 205,\n",
       "        206, 115],\n",
       "       [  0, 122, 219, 193, 179, 171, 183, 196, 204, 210, 213, 207, 211,\n",
       "        210, 200, 196, 194, 191, 195, 191, 198, 192, 176, 156, 167, 177,\n",
       "        210,  92],\n",
       "       [  0,   0,  74, 189, 212, 191, 175, 172, 175, 181, 185, 188, 189,\n",
       "        188, 193, 198, 204, 209, 210, 210, 211, 188, 188, 194, 192, 216,\n",
       "        170,   0],\n",
       "       [  2,   0,   0,   0,  66, 200, 222, 237, 239, 242, 246, 243, 244,\n",
       "        221, 220, 193, 191, 179, 182, 182, 181, 176, 166, 168,  99,  58,\n",
       "          0,   0],\n",
       "       [  0,   0,   0,   0,   0,   0,   0,  40,  61,  44,  72,  41,  35,\n",
       "          0,   0,   0,   0,   0,   0,   0,   0,   0,   0,   0,   0,   0,\n",
       "          0,   0],\n",
       "       [  0,   0,   0,   0,   0,   0,   0,   0,   0,   0,   0,   0,   0,\n",
       "          0,   0,   0,   0,   0,   0,   0,   0,   0,   0,   0,   0,   0,\n",
       "          0,   0],\n",
       "       [  0,   0,   0,   0,   0,   0,   0,   0,   0,   0,   0,   0,   0,\n",
       "          0,   0,   0,   0,   0,   0,   0,   0,   0,   0,   0,   0,   0,\n",
       "          0,   0]], dtype=uint8)"
      ]
     },
     "execution_count": 465,
     "metadata": {},
     "output_type": "execute_result"
    }
   ],
   "source": [
    "train_data[0]"
   ]
  },
  {
   "cell_type": "markdown",
   "id": "f07352be",
   "metadata": {},
   "source": [
    "### Візуалізуємо його за допомогою графіка"
   ]
  },
  {
   "cell_type": "code",
   "execution_count": 466,
   "id": "43a645a5",
   "metadata": {},
   "outputs": [
    {
     "data": {
      "text/plain": [
       "<matplotlib.image.AxesImage at 0x24117b16b80>"
      ]
     },
     "execution_count": 466,
     "metadata": {},
     "output_type": "execute_result"
    },
    {
     "data": {
      "image/png": "[encoded data removed]",
      "text/plain": [
       "<Figure size 432x288 with 1 Axes>"
      ]
     },
     "metadata": {
      "needs_background": "light"
     },
     "output_type": "display_data"
    }
   ],
   "source": [
    "plt.imshow(train_data[0])"
   ]
  },
  {
   "cell_type": "markdown",
   "id": "98e3eebd",
   "metadata": {},
   "source": [
    "### Виведемо номер класу цього зразка"
   ]
  },
  {
   "cell_type": "code",
   "execution_count": 467,
   "id": "71c0a67f",
   "metadata": {},
   "outputs": [
    {
     "data": {
      "text/plain": [
       "9"
      ]
     },
     "execution_count": 467,
     "metadata": {},
     "output_type": "execute_result"
    }
   ],
   "source": [
    "train_labels[0]"
   ]
  },
  {
   "cell_type": "markdown",
   "id": "3dd8f44e",
   "metadata": {},
   "source": [
    "### Видаляємо з даних всі зразки з класами, які не під номерами 1,4,8"
   ]
  },
  {
   "cell_type": "code",
   "execution_count": 468,
   "id": "13cc1a6a",
   "metadata": {},
   "outputs": [],
   "source": [
    "idx = np.argsort(train_labels)\n",
    "train_data = train_data[idx]\n",
    "train_labels = train_labels[idx]\n",
    "\n",
    "idx = np.argsort(test_labels)\n",
    "test_data = test_data[idx]\n",
    "test_labels = test_labels[idx]\n",
    "\n",
    "labels = [\"T-Shirt\", \"Trouser\", \"Pullover\", \"Dress\", \"Coat\", \n",
    "          \"Sandal\", \"Shirt\", \"Sneaker\", \"Bag\", \"Ankle boot\"]\n",
    "\n",
    "label_mapping = dict(zip(labels, range(10)))\n",
    "\n",
    "def get_data(mapping, classes):\n",
    "    X_train, X_test, y_train, y_test = [], [], [], []\n",
    "    for cls in classes:\n",
    "        idx = mapping[cls]\n",
    "        start = idx*6000\n",
    "        end = idx*6000+6000\n",
    "        X_train.append(train_data[start: end])\n",
    "        y_train.append(train_labels[start: end])\n",
    "        start = idx*1000\n",
    "        end = idx*1000+1000\n",
    "        X_test.append(test_data[start: end])\n",
    "        y_test.append(test_labels[start: end])\n",
    "    return X_train, X_test, y_train, y_test\n",
    "\n",
    "\n",
    "X_train, X_test, y_train, y_test = get_data(label_mapping, \n",
    "                                            classes=[\"Trouser\", \"Coat\", \"Bag\"])"
   ]
  },
  {
   "cell_type": "markdown",
   "id": "cfc52502",
   "metadata": {},
   "source": [
    "### Перетворюємо дані у numpy array"
   ]
  },
  {
   "cell_type": "code",
   "execution_count": 469,
   "id": "3eb8384d",
   "metadata": {},
   "outputs": [
    {
     "name": "stdout",
     "output_type": "stream",
     "text": [
      "X_train.shape:  (3, 6000, 28, 28)\n",
      "X_train.shape:  (3, 1000, 28, 28)\n",
      "X_train.shape:  (3, 6000)\n",
      "X_train.shape:  (3, 1000)\n"
     ]
    }
   ],
   "source": [
    "X_train = np.array(X_train)\n",
    "X_test = np.array(X_test)\n",
    "y_train = np.array(y_train)\n",
    "y_test = np.array(y_test)\n",
    "print( \"X_train.shape: \",X_train.shape)\n",
    "print( \"X_train.shape: \",X_test.shape)\n",
    "print( \"X_train.shape: \",y_train.shape)\n",
    "print( \"X_train.shape: \",y_test.shape)"
   ]
  },
  {
   "cell_type": "markdown",
   "id": "110748bd",
   "metadata": {},
   "source": [
    "### Для тренування мережі необхідно за допомогою функції reshape перетворити розмірність даних"
   ]
  },
  {
   "cell_type": "code",
   "execution_count": 470,
   "id": "0b38512a",
   "metadata": {},
   "outputs": [
    {
     "name": "stdout",
     "output_type": "stream",
     "text": [
      "X_train.shape:  (18000, 784)\n",
      "X_train.shape:  (3000, 784)\n",
      "X_train.shape:  (18000, 1)\n",
      "X_train.shape:  (3000, 1)\n"
     ]
    }
   ],
   "source": [
    "X_train = X_train.reshape(18000,784)\n",
    "X_test = X_test.reshape(3000,784)\n",
    "y_train = y_train.reshape(18000,1)\n",
    "y_test = y_test.reshape(3000,1)\n",
    "print( \"X_train.shape: \",X_train.shape)\n",
    "print( \"X_train.shape: \",X_test.shape)\n",
    "print( \"X_train.shape: \",y_train.shape)\n",
    "print( \"X_train.shape: \",y_test.shape)"
   ]
  },
  {
   "cell_type": "markdown",
   "id": "993de2e5",
   "metadata": {},
   "source": [
    "### Подивимось на те, як наші класи збалансовані"
   ]
  },
  {
   "cell_type": "code",
   "execution_count": 471,
   "id": "17fb0df6",
   "metadata": {},
   "outputs": [
    {
     "name": "stdout",
     "output_type": "stream",
     "text": [
      "Збалансованість на тренувальній вибірці:\n"
     ]
    },
    {
     "data": {
      "text/plain": [
       "(array([1, 4, 8], dtype=uint8), array([6000, 6000, 6000], dtype=int64))"
      ]
     },
     "execution_count": 471,
     "metadata": {},
     "output_type": "execute_result"
    }
   ],
   "source": [
    "print(\"Збалансованість на тренувальній вибірці:\")\n",
    "np.unique(y_train,return_counts=True)"
   ]
  },
  {
   "cell_type": "code",
   "execution_count": 472,
   "id": "a2399976",
   "metadata": {},
   "outputs": [
    {
     "name": "stdout",
     "output_type": "stream",
     "text": [
      "Збалансованість на тестувальній вибірці:\n"
     ]
    },
    {
     "data": {
      "text/plain": [
       "(array([1, 4, 8], dtype=uint8), array([1000, 1000, 1000], dtype=int64))"
      ]
     },
     "execution_count": 472,
     "metadata": {},
     "output_type": "execute_result"
    }
   ],
   "source": [
    "print(\"Збалансованість на тестувальній вибірці:\")\n",
    "np.unique(y_test,return_counts=True)"
   ]
  },
  {
   "cell_type": "markdown",
   "id": "e5dfa76d",
   "metadata": {},
   "source": [
    "### Як видно, класи збалансовані рівномірно"
   ]
  },
  {
   "cell_type": "markdown",
   "id": "d98b5194",
   "metadata": {},
   "source": [
    "##  1) Модель без нормалізації та з лінійною функцією."
   ]
  },
  {
   "cell_type": "code",
   "execution_count": 473,
   "id": "63d64e05",
   "metadata": {},
   "outputs": [
    {
     "name": "stdout",
     "output_type": "stream",
     "text": [
      "Epoch 1/50\n",
      "563/563 [==============================] - 1s 942us/step - loss: 4.5941 - accuracy: 0.5161 - val_loss: 1.2145 - val_accuracy: 0.6980\n",
      "Epoch 2/50\n",
      "563/563 [==============================] - 0s 772us/step - loss: 1.1726 - accuracy: 0.7836 - val_loss: 1.0638 - val_accuracy: 0.8003\n",
      "Epoch 3/50\n",
      "563/563 [==============================] - 0s 818us/step - loss: 0.9224 - accuracy: 0.8464 - val_loss: 0.8430 - val_accuracy: 0.8903\n",
      "Epoch 4/50\n",
      "563/563 [==============================] - 0s 792us/step - loss: 0.7443 - accuracy: 0.8796 - val_loss: 0.8962 - val_accuracy: 0.8903\n",
      "Epoch 5/50\n",
      "563/563 [==============================] - 1s 907us/step - loss: 0.6058 - accuracy: 0.8882 - val_loss: 0.6182 - val_accuracy: 0.9210\n",
      "Epoch 6/50\n",
      "563/563 [==============================] - 1s 891us/step - loss: 0.5292 - accuracy: 0.9057 - val_loss: 0.4570 - val_accuracy: 0.9177\n",
      "Epoch 7/50\n",
      "563/563 [==============================] - 0s 884us/step - loss: 0.3350 - accuracy: 0.9283 - val_loss: 0.3072 - val_accuracy: 0.9410\n",
      "Epoch 8/50\n",
      "563/563 [==============================] - 0s 829us/step - loss: 0.2415 - accuracy: 0.9477 - val_loss: 0.2636 - val_accuracy: 0.9353\n",
      "Epoch 9/50\n",
      "563/563 [==============================] - 0s 800us/step - loss: 0.2169 - accuracy: 0.9502 - val_loss: 0.2245 - val_accuracy: 0.9497\n",
      "Epoch 10/50\n",
      "563/563 [==============================] - 0s 763us/step - loss: 0.2007 - accuracy: 0.9546 - val_loss: 0.2315 - val_accuracy: 0.9430\n",
      "Epoch 11/50\n",
      "563/563 [==============================] - 0s 810us/step - loss: 0.1944 - accuracy: 0.9544 - val_loss: 0.2136 - val_accuracy: 0.9520\n",
      "Epoch 12/50\n",
      "563/563 [==============================] - 0s 845us/step - loss: 0.1897 - accuracy: 0.9534 - val_loss: 0.2012 - val_accuracy: 0.9557\n",
      "Epoch 13/50\n",
      "563/563 [==============================] - 0s 839us/step - loss: 0.1783 - accuracy: 0.9582 - val_loss: 0.1971 - val_accuracy: 0.9540\n",
      "Epoch 14/50\n",
      "563/563 [==============================] - 0s 783us/step - loss: 0.1777 - accuracy: 0.9585 - val_loss: 0.1954 - val_accuracy: 0.9550\n",
      "Epoch 15/50\n",
      "563/563 [==============================] - 1s 886us/step - loss: 0.1773 - accuracy: 0.9577 - val_loss: 0.2381 - val_accuracy: 0.9423\n",
      "Epoch 16/50\n",
      "563/563 [==============================] - 0s 772us/step - loss: 0.1754 - accuracy: 0.9574 - val_loss: 0.2024 - val_accuracy: 0.9500\n",
      "Epoch 17/50\n",
      "563/563 [==============================] - 0s 784us/step - loss: 0.1742 - accuracy: 0.9568 - val_loss: 0.2037 - val_accuracy: 0.9473\n",
      "Epoch 18/50\n",
      "563/563 [==============================] - 1s 897us/step - loss: 0.1755 - accuracy: 0.9557 - val_loss: 0.2102 - val_accuracy: 0.9497\n",
      "Epoch 19/50\n",
      "563/563 [==============================] - 1s 954us/step - loss: 0.1706 - accuracy: 0.9572 - val_loss: 0.2010 - val_accuracy: 0.9447\n",
      "Epoch 20/50\n",
      "563/563 [==============================] - 0s 763us/step - loss: 0.1649 - accuracy: 0.9601 - val_loss: 0.1950 - val_accuracy: 0.9500\n",
      "Epoch 21/50\n",
      "563/563 [==============================] - 0s 776us/step - loss: 0.1634 - accuracy: 0.9602 - val_loss: 0.1917 - val_accuracy: 0.9507\n",
      "Epoch 22/50\n",
      "563/563 [==============================] - 0s 743us/step - loss: 0.1659 - accuracy: 0.9566 - val_loss: 0.1970 - val_accuracy: 0.9553\n",
      "Epoch 23/50\n",
      "563/563 [==============================] - 0s 749us/step - loss: 0.1566 - accuracy: 0.9611 - val_loss: 0.1885 - val_accuracy: 0.9540\n",
      "Epoch 24/50\n",
      "563/563 [==============================] - 0s 740us/step - loss: 0.1603 - accuracy: 0.9602 - val_loss: 0.2135 - val_accuracy: 0.9503\n",
      "Epoch 25/50\n",
      "563/563 [==============================] - 0s 742us/step - loss: 0.1559 - accuracy: 0.9611 - val_loss: 0.1946 - val_accuracy: 0.9563\n",
      "Epoch 26/50\n",
      "563/563 [==============================] - 0s 745us/step - loss: 0.1556 - accuracy: 0.9607 - val_loss: 0.1998 - val_accuracy: 0.9503\n",
      "Epoch 27/50\n",
      "563/563 [==============================] - 0s 744us/step - loss: 0.1584 - accuracy: 0.9595 - val_loss: 0.1903 - val_accuracy: 0.9510\n",
      "Epoch 28/50\n",
      "563/563 [==============================] - 0s 747us/step - loss: 0.1564 - accuracy: 0.9608 - val_loss: 0.1889 - val_accuracy: 0.9543\n",
      "Epoch 29/50\n",
      "563/563 [==============================] - 0s 742us/step - loss: 0.1515 - accuracy: 0.9623 - val_loss: 0.2032 - val_accuracy: 0.9507\n",
      "Epoch 30/50\n",
      "563/563 [==============================] - 0s 742us/step - loss: 0.1519 - accuracy: 0.9611 - val_loss: 0.1885 - val_accuracy: 0.9557\n",
      "Epoch 31/50\n",
      "563/563 [==============================] - 0s 755us/step - loss: 0.1528 - accuracy: 0.9602 - val_loss: 0.1939 - val_accuracy: 0.9517\n",
      "Epoch 32/50\n",
      "563/563 [==============================] - 0s 735us/step - loss: 0.1495 - accuracy: 0.9628 - val_loss: 0.1905 - val_accuracy: 0.9570\n",
      "Epoch 33/50\n",
      "563/563 [==============================] - 0s 738us/step - loss: 0.1500 - accuracy: 0.9616 - val_loss: 0.1937 - val_accuracy: 0.9550\n",
      "Epoch 34/50\n",
      "563/563 [==============================] - 0s 763us/step - loss: 0.1492 - accuracy: 0.9619 - val_loss: 0.1945 - val_accuracy: 0.9563\n",
      "Epoch 35/50\n",
      "563/563 [==============================] - 0s 703us/step - loss: 0.1486 - accuracy: 0.9623 - val_loss: 0.1954 - val_accuracy: 0.9563\n",
      "Epoch 36/50\n",
      "563/563 [==============================] - 0s 717us/step - loss: 0.1460 - accuracy: 0.9622 - val_loss: 0.2089 - val_accuracy: 0.9557\n",
      "Epoch 37/50\n",
      "563/563 [==============================] - 0s 725us/step - loss: 0.1463 - accuracy: 0.9624 - val_loss: 0.1974 - val_accuracy: 0.9563\n",
      "Epoch 38/50\n",
      "563/563 [==============================] - 0s 699us/step - loss: 0.1478 - accuracy: 0.9618 - val_loss: 0.1931 - val_accuracy: 0.9537\n",
      "Epoch 39/50\n",
      "563/563 [==============================] - 0s 701us/step - loss: 0.1458 - accuracy: 0.9605 - val_loss: 0.1939 - val_accuracy: 0.9573\n",
      "Epoch 40/50\n",
      "563/563 [==============================] - 0s 697us/step - loss: 0.1447 - accuracy: 0.9618 - val_loss: 0.1953 - val_accuracy: 0.9563\n",
      "Epoch 41/50\n",
      "563/563 [==============================] - 0s 703us/step - loss: 0.1497 - accuracy: 0.9617 - val_loss: 0.2073 - val_accuracy: 0.9590\n",
      "Epoch 42/50\n",
      "563/563 [==============================] - 0s 697us/step - loss: 0.1435 - accuracy: 0.9619 - val_loss: 0.1960 - val_accuracy: 0.9553\n",
      "Epoch 43/50\n",
      "563/563 [==============================] - 0s 699us/step - loss: 0.1443 - accuracy: 0.9642 - val_loss: 0.1980 - val_accuracy: 0.9497\n",
      "Epoch 44/50\n",
      "563/563 [==============================] - 0s 697us/step - loss: 0.1434 - accuracy: 0.9626 - val_loss: 0.2042 - val_accuracy: 0.9557\n",
      "Epoch 45/50\n",
      "563/563 [==============================] - 0s 694us/step - loss: 0.1427 - accuracy: 0.9634 - val_loss: 0.2069 - val_accuracy: 0.9573\n",
      "Epoch 46/50\n",
      "563/563 [==============================] - 0s 708us/step - loss: 0.1396 - accuracy: 0.9634 - val_loss: 0.2115 - val_accuracy: 0.9560\n",
      "Epoch 47/50\n",
      "563/563 [==============================] - 0s 708us/step - loss: 0.1428 - accuracy: 0.9625 - val_loss: 0.1951 - val_accuracy: 0.9580\n",
      "Epoch 48/50\n",
      "563/563 [==============================] - 0s 691us/step - loss: 0.1397 - accuracy: 0.9640 - val_loss: 0.2027 - val_accuracy: 0.9573\n",
      "Epoch 49/50\n",
      "563/563 [==============================] - 0s 712us/step - loss: 0.1418 - accuracy: 0.9635 - val_loss: 0.2003 - val_accuracy: 0.9583\n",
      "Epoch 50/50\n",
      "563/563 [==============================] - 0s 706us/step - loss: 0.1374 - accuracy: 0.9650 - val_loss: 0.2166 - val_accuracy: 0.9533\n"
     ]
    }
   ],
   "source": [
    "# Set random seed\n",
    "tf.random.set_seed(42)\n",
    "\n",
    "# Create the model\n",
    "model = tf.keras.Sequential([\n",
    "  tf.keras.layers.Dense(1),\n",
    "  tf.keras.layers.Dense(9, activation=\"softmax\")\n",
    "])\n",
    "\n",
    "# Compile the model\n",
    "model.compile(loss=tf.keras.losses.SparseCategoricalCrossentropy(),\n",
    "                 optimizer=tf.keras.optimizers.Adam(),\n",
    "                 metrics=[\"accuracy\"])\n",
    "\n",
    "# Fit the model\n",
    "history = model.fit(X_train, y_train, epochs=50,validation_data=( X_test, y_test)) "
   ]
  },
  {
   "cell_type": "markdown",
   "id": "cc89457e",
   "metadata": {},
   "source": [
    "### Точність моделі досить висока, проте спробуємо її підвищити, знайшовши ідеальний learning rate"
   ]
  },
  {
   "cell_type": "code",
   "execution_count": 474,
   "id": "0bd50a79",
   "metadata": {
    "scrolled": true
   },
   "outputs": [
    {
     "name": "stdout",
     "output_type": "stream",
     "text": [
      "Epoch 1/50\n",
      "563/563 [==============================] - 1s 925us/step - loss: 4.5941 - accuracy: 0.5161 - val_loss: 1.2145 - val_accuracy: 0.6980\n",
      "Epoch 2/50\n",
      "563/563 [==============================] - 0s 706us/step - loss: 1.1786 - accuracy: 0.7799 - val_loss: 1.3311 - val_accuracy: 0.8527\n",
      "Epoch 3/50\n",
      "563/563 [==============================] - 0s 702us/step - loss: 0.9594 - accuracy: 0.8258 - val_loss: 0.9781 - val_accuracy: 0.8723\n",
      "Epoch 4/50\n",
      "563/563 [==============================] - 0s 704us/step - loss: 0.7522 - accuracy: 0.8697 - val_loss: 0.7494 - val_accuracy: 0.8987\n",
      "Epoch 5/50\n",
      "563/563 [==============================] - 1s 952us/step - loss: 0.5401 - accuracy: 0.8993 - val_loss: 0.5010 - val_accuracy: 0.9130\n",
      "Epoch 6/50\n",
      "563/563 [==============================] - 0s 829us/step - loss: 0.3259 - accuracy: 0.9297 - val_loss: 0.2732 - val_accuracy: 0.9383\n",
      "Epoch 7/50\n",
      "563/563 [==============================] - 0s 699us/step - loss: 0.2235 - accuracy: 0.9494 - val_loss: 0.2222 - val_accuracy: 0.9533\n",
      "Epoch 8/50\n",
      "563/563 [==============================] - 0s 707us/step - loss: 0.2010 - accuracy: 0.9555 - val_loss: 0.2109 - val_accuracy: 0.9473\n",
      "Epoch 9/50\n",
      "563/563 [==============================] - 0s 702us/step - loss: 0.1959 - accuracy: 0.9528 - val_loss: 0.2018 - val_accuracy: 0.9530\n",
      "Epoch 10/50\n",
      "563/563 [==============================] - 0s 705us/step - loss: 0.1983 - accuracy: 0.9524 - val_loss: 0.2078 - val_accuracy: 0.9490\n",
      "Epoch 11/50\n",
      "563/563 [==============================] - 0s 702us/step - loss: 0.1927 - accuracy: 0.9516 - val_loss: 0.2399 - val_accuracy: 0.9367\n",
      "Epoch 12/50\n",
      "563/563 [==============================] - 0s 694us/step - loss: 0.2013 - accuracy: 0.9493 - val_loss: 0.1955 - val_accuracy: 0.9560\n",
      "Epoch 13/50\n",
      "563/563 [==============================] - 0s 690us/step - loss: 0.1994 - accuracy: 0.9507 - val_loss: 0.1947 - val_accuracy: 0.9543\n",
      "Epoch 14/50\n",
      "563/563 [==============================] - 0s 701us/step - loss: 0.2010 - accuracy: 0.9488 - val_loss: 0.2377 - val_accuracy: 0.9490\n",
      "Epoch 15/50\n",
      "563/563 [==============================] - 0s 690us/step - loss: 0.2129 - accuracy: 0.9449 - val_loss: 0.1979 - val_accuracy: 0.9610\n",
      "Epoch 16/50\n",
      "563/563 [==============================] - 0s 687us/step - loss: 0.2853 - accuracy: 0.9331 - val_loss: 0.2265 - val_accuracy: 0.9387\n",
      "Epoch 17/50\n",
      "563/563 [==============================] - 0s 690us/step - loss: 0.2317 - accuracy: 0.9414 - val_loss: 0.2927 - val_accuracy: 0.9473\n",
      "Epoch 18/50\n",
      "563/563 [==============================] - 0s 692us/step - loss: 0.2167 - accuracy: 0.9450 - val_loss: 0.3275 - val_accuracy: 0.9097\n",
      "Epoch 19/50\n",
      "563/563 [==============================] - 0s 690us/step - loss: 1.8995 - accuracy: 0.8644 - val_loss: 2.5530 - val_accuracy: 0.6823\n",
      "Epoch 20/50\n",
      "563/563 [==============================] - 0s 701us/step - loss: 0.8209 - accuracy: 0.8938 - val_loss: 0.2527 - val_accuracy: 0.9430\n",
      "Epoch 21/50\n",
      "563/563 [==============================] - 0s 690us/step - loss: 0.1758 - accuracy: 0.9564 - val_loss: 0.2071 - val_accuracy: 0.9500\n",
      "Epoch 22/50\n",
      "563/563 [==============================] - 0s 694us/step - loss: 0.1719 - accuracy: 0.9551 - val_loss: 0.2733 - val_accuracy: 0.9493\n",
      "Epoch 23/50\n",
      "563/563 [==============================] - 0s 699us/step - loss: 0.1863 - accuracy: 0.9536 - val_loss: 0.2848 - val_accuracy: 0.9357\n",
      "Epoch 24/50\n",
      "563/563 [==============================] - 0s 696us/step - loss: 6.2664 - accuracy: 0.8066 - val_loss: 0.6847 - val_accuracy: 0.8963\n",
      "Epoch 25/50\n",
      "563/563 [==============================] - 0s 696us/step - loss: 0.5948 - accuracy: 0.9165 - val_loss: 0.2431 - val_accuracy: 0.9383\n",
      "Epoch 26/50\n",
      "563/563 [==============================] - 0s 683us/step - loss: 0.1782 - accuracy: 0.9538 - val_loss: 0.2676 - val_accuracy: 0.9370\n",
      "Epoch 27/50\n",
      "563/563 [==============================] - 0s 685us/step - loss: 2.6768 - accuracy: 0.8605 - val_loss: 1.7515 - val_accuracy: 0.8113\n",
      "Epoch 28/50\n",
      "563/563 [==============================] - 0s 713us/step - loss: 0.4751 - accuracy: 0.9296 - val_loss: 0.2899 - val_accuracy: 0.9190\n",
      "Epoch 29/50\n",
      "563/563 [==============================] - 0s 690us/step - loss: 0.2367 - accuracy: 0.9444 - val_loss: 0.3303 - val_accuracy: 0.9240\n",
      "Epoch 30/50\n",
      "563/563 [==============================] - 0s 690us/step - loss: 14.7569 - accuracy: 0.7559 - val_loss: 2.1770 - val_accuracy: 0.9160\n",
      "Epoch 31/50\n",
      "563/563 [==============================] - 0s 701us/step - loss: 2.1462 - accuracy: 0.8936 - val_loss: 0.8772 - val_accuracy: 0.9403\n",
      "Epoch 32/50\n",
      "563/563 [==============================] - 0s 692us/step - loss: 0.5625 - accuracy: 0.9496 - val_loss: 0.5124 - val_accuracy: 0.9513\n",
      "Epoch 33/50\n",
      "563/563 [==============================] - 0s 690us/step - loss: 14.8702 - accuracy: 0.9087 - val_loss: 27.6673 - val_accuracy: 0.6550\n",
      "Epoch 34/50\n",
      "563/563 [==============================] - 0s 690us/step - loss: 14.3239 - accuracy: 0.7907 - val_loss: 0.7886 - val_accuracy: 0.9417\n",
      "Epoch 35/50\n",
      "563/563 [==============================] - 0s 703us/step - loss: 25.1022 - accuracy: 0.7938 - val_loss: 50.9693 - val_accuracy: 0.6617\n",
      "Epoch 36/50\n",
      "563/563 [==============================] - 0s 696us/step - loss: 21.9129 - accuracy: 0.7417 - val_loss: 7.9881 - val_accuracy: 0.8230\n",
      "Epoch 37/50\n",
      "563/563 [==============================] - 0s 738us/step - loss: 5.0512 - accuracy: 0.8811 - val_loss: 1.6377 - val_accuracy: 0.9460\n",
      "Epoch 38/50\n",
      "563/563 [==============================] - 0s 689us/step - loss: 76.1781 - accuracy: 0.8718 - val_loss: 163.5099 - val_accuracy: 0.6867\n",
      "Epoch 39/50\n",
      "563/563 [==============================] - 0s 694us/step - loss: 67.6216 - accuracy: 0.7244 - val_loss: 48.7939 - val_accuracy: 0.8667\n",
      "Epoch 40/50\n",
      "563/563 [==============================] - 0s 697us/step - loss: 271.5839 - accuracy: 0.6739 - val_loss: 118.6616 - val_accuracy: 0.6357\n",
      "Epoch 41/50\n",
      "563/563 [==============================] - 0s 699us/step - loss: 67.6329 - accuracy: 0.7124 - val_loss: 26.0391 - val_accuracy: 0.8363\n",
      "Epoch 42/50\n",
      "563/563 [==============================] - 0s 710us/step - loss: 124.2563 - accuracy: 0.7176 - val_loss: 88.1539 - val_accuracy: 0.6313\n",
      "Epoch 43/50\n",
      "563/563 [==============================] - 0s 689us/step - loss: 115.7936 - accuracy: 0.7194 - val_loss: 367.3702 - val_accuracy: 0.6470\n",
      "Epoch 44/50\n",
      "563/563 [==============================] - 0s 788us/step - loss: 267.1662 - accuracy: 0.6668 - val_loss: 707.9197 - val_accuracy: 0.6593\n",
      "Epoch 45/50\n",
      "563/563 [==============================] - 1s 985us/step - loss: 483.2091 - accuracy: 0.6739 - val_loss: 72.6603 - val_accuracy: 0.6577\n",
      "Epoch 46/50\n",
      "563/563 [==============================] - 1s 930us/step - loss: 269.9952 - accuracy: 0.6933 - val_loss: 1289.3295 - val_accuracy: 0.6543\n",
      "Epoch 47/50\n",
      "563/563 [==============================] - 0s 786us/step - loss: 383.2157 - accuracy: 0.6871 - val_loss: 349.7374 - val_accuracy: 0.6543\n",
      "Epoch 48/50\n",
      "563/563 [==============================] - 0s 752us/step - loss: 897.7393 - accuracy: 0.6838 - val_loss: 697.0208 - val_accuracy: 0.6583\n",
      "Epoch 49/50\n",
      "563/563 [==============================] - 0s 781us/step - loss: 739.8356 - accuracy: 0.7081 - val_loss: 165.8264 - val_accuracy: 0.7920\n",
      "Epoch 50/50\n",
      "563/563 [==============================] - 0s 713us/step - loss: 1317.9790 - accuracy: 0.6507 - val_loss: 365.8942 - val_accuracy: 0.6510\n"
     ]
    }
   ],
   "source": [
    "# Set random seed\n",
    "tf.random.set_seed(42)\n",
    "\n",
    "# Create the model\n",
    "model2 = tf.keras.Sequential([\n",
    "  tf.keras.layers.Dense(1),\n",
    "  tf.keras.layers.Dense(9, activation=\"softmax\")\n",
    "])\n",
    "\n",
    "# Compile the model\n",
    "model2.compile(loss=tf.keras.losses.SparseCategoricalCrossentropy(),\n",
    "                 optimizer=tf.keras.optimizers.Adam(),\n",
    "                 metrics=[\"accuracy\"])\n",
    "lr_scheduler = tf.keras.callbacks.LearningRateScheduler(lambda epoch: 1e-3 * 10**(epoch/20))\n",
    "# traverse a set of learning rate values starting from 1e-4, increasing by 10**(epoch/20) every epoch\n",
    "\n",
    "# Fit the model\n",
    "history2 = model2.fit(X_train, y_train, epochs=50,validation_data=( X_test, y_test),callbacks=[lr_scheduler]) "
   ]
  },
  {
   "cell_type": "markdown",
   "id": "019a27c6",
   "metadata": {},
   "source": [
    "### Графік залежності loss від learning rate"
   ]
  },
  {
   "cell_type": "code",
   "execution_count": 475,
   "id": "0a5e4f66",
   "metadata": {},
   "outputs": [
    {
     "data": {
      "image/png": "[encoded data removed]",
      "text/plain": [
       "<Figure size 720x504 with 1 Axes>"
      ]
     },
     "metadata": {
      "needs_background": "light"
     },
     "output_type": "display_data"
    }
   ],
   "source": [
    "# Plot the learning rate versus the loss\n",
    "lrs = 1e-3 * (10**(np.arange(50)/20))\n",
    "plt.figure(figsize=(10, 7))\n",
    "plt.semilogx(lrs, history2.history[\"loss\"]) # we want the x-axis (learning rate) to be log scale\n",
    "plt.xlabel(\"Learning Rate\")\n",
    "plt.ylabel(\"Loss\")\n",
    "plt.title(\"Learning rate vs. loss\");"
   ]
  },
  {
   "cell_type": "markdown",
   "id": "a114ce32",
   "metadata": {},
   "source": [
    "### Як видно з графіку, найкращий learning rate знаходиться в межах від 0.001 до 0.01. Спробуємо навчити модель з lr = 0.0055 ((0.0001+0.001)/2)"
   ]
  },
  {
   "cell_type": "code",
   "execution_count": 476,
   "id": "96438218",
   "metadata": {},
   "outputs": [
    {
     "name": "stdout",
     "output_type": "stream",
     "text": [
      "Epoch 1/50\n",
      "563/563 [==============================] - 1s 925us/step - loss: 4.0147 - accuracy: 0.6891 - val_loss: 1.3731 - val_accuracy: 0.7323\n",
      "Epoch 2/50\n",
      "563/563 [==============================] - 0s 706us/step - loss: 0.8176 - accuracy: 0.8676 - val_loss: 0.4642 - val_accuracy: 0.9317\n",
      "Epoch 3/50\n",
      "563/563 [==============================] - 0s 697us/step - loss: 0.2727 - accuracy: 0.9396 - val_loss: 0.2439 - val_accuracy: 0.9457\n",
      "Epoch 4/50\n",
      "563/563 [==============================] - 0s 699us/step - loss: 0.1973 - accuracy: 0.9534 - val_loss: 0.2709 - val_accuracy: 0.9417\n",
      "Epoch 5/50\n",
      "563/563 [==============================] - 0s 699us/step - loss: 0.1968 - accuracy: 0.9531 - val_loss: 0.2321 - val_accuracy: 0.9453\n",
      "Epoch 6/50\n",
      "563/563 [==============================] - 0s 696us/step - loss: 0.2015 - accuracy: 0.9499 - val_loss: 0.2590 - val_accuracy: 0.9347\n",
      "Epoch 7/50\n",
      "563/563 [==============================] - 0s 705us/step - loss: 0.2023 - accuracy: 0.9500 - val_loss: 0.1935 - val_accuracy: 0.9497\n",
      "Epoch 8/50\n",
      "563/563 [==============================] - 0s 694us/step - loss: 0.1964 - accuracy: 0.9525 - val_loss: 0.5245 - val_accuracy: 0.9453\n",
      "Epoch 9/50\n",
      "563/563 [==============================] - 0s 696us/step - loss: 0.2065 - accuracy: 0.9464 - val_loss: 0.2017 - val_accuracy: 0.9580\n",
      "Epoch 10/50\n",
      "563/563 [==============================] - 0s 696us/step - loss: 0.1987 - accuracy: 0.9502 - val_loss: 0.2217 - val_accuracy: 0.9550\n",
      "Epoch 11/50\n",
      "563/563 [==============================] - 0s 694us/step - loss: 0.2000 - accuracy: 0.9487 - val_loss: 0.3443 - val_accuracy: 0.8863\n",
      "Epoch 12/50\n",
      "563/563 [==============================] - 0s 694us/step - loss: 0.2871 - accuracy: 0.9311 - val_loss: 0.2037 - val_accuracy: 0.9533\n",
      "Epoch 13/50\n",
      "563/563 [==============================] - 0s 694us/step - loss: 0.1831 - accuracy: 0.9554 - val_loss: 0.2058 - val_accuracy: 0.9560\n",
      "Epoch 14/50\n",
      "563/563 [==============================] - 0s 696us/step - loss: 0.1852 - accuracy: 0.9539 - val_loss: 0.2176 - val_accuracy: 0.9460\n",
      "Epoch 15/50\n",
      "563/563 [==============================] - 0s 697us/step - loss: 0.2168 - accuracy: 0.9454 - val_loss: 0.2720 - val_accuracy: 0.9593\n",
      "Epoch 16/50\n",
      "563/563 [==============================] - 0s 697us/step - loss: 0.3158 - accuracy: 0.9295 - val_loss: 0.2248 - val_accuracy: 0.9413\n",
      "Epoch 17/50\n",
      "563/563 [==============================] - 0s 697us/step - loss: 0.1914 - accuracy: 0.9508 - val_loss: 0.3094 - val_accuracy: 0.9377\n",
      "Epoch 18/50\n",
      "563/563 [==============================] - 0s 690us/step - loss: 0.1885 - accuracy: 0.9513 - val_loss: 0.3173 - val_accuracy: 0.9160\n",
      "Epoch 19/50\n",
      "563/563 [==============================] - 0s 694us/step - loss: 0.1827 - accuracy: 0.9521 - val_loss: 0.2363 - val_accuracy: 0.9403\n",
      "Epoch 20/50\n",
      "563/563 [==============================] - 0s 697us/step - loss: 0.2556 - accuracy: 0.9427 - val_loss: 0.2224 - val_accuracy: 0.9583\n",
      "Epoch 21/50\n",
      "563/563 [==============================] - 0s 699us/step - loss: 0.2070 - accuracy: 0.9489 - val_loss: 0.3157 - val_accuracy: 0.9387\n",
      "Epoch 22/50\n",
      "563/563 [==============================] - 0s 699us/step - loss: 0.1795 - accuracy: 0.9535 - val_loss: 0.2237 - val_accuracy: 0.9473\n",
      "Epoch 23/50\n",
      "563/563 [==============================] - 0s 694us/step - loss: 0.1775 - accuracy: 0.9548 - val_loss: 0.2465 - val_accuracy: 0.9517\n",
      "Epoch 24/50\n",
      "563/563 [==============================] - 0s 696us/step - loss: 0.1866 - accuracy: 0.9527 - val_loss: 0.2368 - val_accuracy: 0.9340\n",
      "Epoch 25/50\n",
      "563/563 [==============================] - 0s 736us/step - loss: 0.1912 - accuracy: 0.9504 - val_loss: 0.2314 - val_accuracy: 0.9467\n",
      "Epoch 26/50\n",
      "563/563 [==============================] - 0s 744us/step - loss: 1.0470 - accuracy: 0.9007 - val_loss: 0.3944 - val_accuracy: 0.9380\n",
      "Epoch 27/50\n",
      "563/563 [==============================] - 0s 713us/step - loss: 0.1646 - accuracy: 0.9587 - val_loss: 0.2073 - val_accuracy: 0.9537\n",
      "Epoch 28/50\n",
      "563/563 [==============================] - 0s 726us/step - loss: 0.1504 - accuracy: 0.9615 - val_loss: 0.1966 - val_accuracy: 0.9570\n",
      "Epoch 29/50\n",
      "563/563 [==============================] - 0s 768us/step - loss: 0.1493 - accuracy: 0.9613 - val_loss: 0.2273 - val_accuracy: 0.9517\n",
      "Epoch 30/50\n",
      "563/563 [==============================] - 0s 740us/step - loss: 0.1537 - accuracy: 0.9593 - val_loss: 0.2129 - val_accuracy: 0.9550\n",
      "Epoch 31/50\n",
      "563/563 [==============================] - 0s 870us/step - loss: 0.1733 - accuracy: 0.9529 - val_loss: 0.2960 - val_accuracy: 0.9460\n",
      "Epoch 32/50\n",
      "563/563 [==============================] - 0s 843us/step - loss: 0.1867 - accuracy: 0.9543 - val_loss: 0.4994 - val_accuracy: 0.8700\n",
      "Epoch 33/50\n",
      "563/563 [==============================] - 0s 758us/step - loss: 0.1823 - accuracy: 0.9491 - val_loss: 0.2977 - val_accuracy: 0.9497\n",
      "Epoch 34/50\n",
      "563/563 [==============================] - 0s 678us/step - loss: 0.1915 - accuracy: 0.9490 - val_loss: 0.2284 - val_accuracy: 0.9463\n",
      "Epoch 35/50\n",
      "563/563 [==============================] - 0s 708us/step - loss: 0.3989 - accuracy: 0.9292 - val_loss: 0.2416 - val_accuracy: 0.9490\n",
      "Epoch 36/50\n",
      "563/563 [==============================] - 0s 681us/step - loss: 0.1581 - accuracy: 0.9566 - val_loss: 0.2333 - val_accuracy: 0.9533\n",
      "Epoch 37/50\n",
      "563/563 [==============================] - 0s 671us/step - loss: 0.1559 - accuracy: 0.9586 - val_loss: 0.2171 - val_accuracy: 0.9580\n",
      "Epoch 38/50\n",
      "563/563 [==============================] - 0s 659us/step - loss: 0.1764 - accuracy: 0.9525 - val_loss: 0.2735 - val_accuracy: 0.9357\n",
      "Epoch 39/50\n",
      "563/563 [==============================] - 0s 756us/step - loss: 0.5747 - accuracy: 0.9093 - val_loss: 0.5308 - val_accuracy: 0.9483\n",
      "Epoch 40/50\n",
      "563/563 [==============================] - 0s 678us/step - loss: 0.2012 - accuracy: 0.9542 - val_loss: 0.2400 - val_accuracy: 0.9557\n",
      "Epoch 41/50\n",
      "563/563 [==============================] - 0s 667us/step - loss: 0.1569 - accuracy: 0.9583 - val_loss: 0.2399 - val_accuracy: 0.9537\n",
      "Epoch 42/50\n",
      "563/563 [==============================] - 0s 678us/step - loss: 0.1512 - accuracy: 0.9605 - val_loss: 0.2349 - val_accuracy: 0.9527\n",
      "Epoch 43/50\n",
      "563/563 [==============================] - 0s 674us/step - loss: 0.3926 - accuracy: 0.9366 - val_loss: 7.8585 - val_accuracy: 0.6293\n",
      "Epoch 44/50\n",
      "563/563 [==============================] - 0s 745us/step - loss: 0.4733 - accuracy: 0.9263 - val_loss: 0.2347 - val_accuracy: 0.9547\n",
      "Epoch 45/50\n",
      "563/563 [==============================] - 0s 658us/step - loss: 0.1430 - accuracy: 0.9603 - val_loss: 0.2618 - val_accuracy: 0.9480\n",
      "Epoch 46/50\n",
      "563/563 [==============================] - 0s 667us/step - loss: 0.1414 - accuracy: 0.9603 - val_loss: 0.2424 - val_accuracy: 0.9533\n",
      "Epoch 47/50\n",
      "563/563 [==============================] - 0s 660us/step - loss: 0.1481 - accuracy: 0.9601 - val_loss: 0.3330 - val_accuracy: 0.9337\n",
      "Epoch 48/50\n",
      "563/563 [==============================] - 0s 662us/step - loss: 0.1584 - accuracy: 0.9572 - val_loss: 0.2504 - val_accuracy: 0.9530\n",
      "Epoch 49/50\n",
      "563/563 [==============================] - 0s 664us/step - loss: 0.1600 - accuracy: 0.9567 - val_loss: 0.2245 - val_accuracy: 0.9557\n",
      "Epoch 50/50\n",
      "563/563 [==============================] - 0s 690us/step - loss: 0.2173 - accuracy: 0.9449 - val_loss: 2.2523 - val_accuracy: 0.6393\n"
     ]
    }
   ],
   "source": [
    "tf.random.set_seed(42)\n",
    "\n",
    "# Create the model\n",
    "model3 = tf.keras.Sequential([\n",
    "  tf.keras.layers.Dense(1),\n",
    "  tf.keras.layers.Dense(9, activation=\"softmax\")\n",
    "])\n",
    "\n",
    "# Compile the model\n",
    "model3.compile(loss=tf.keras.losses.SparseCategoricalCrossentropy(),\n",
    "                 optimizer=tf.keras.optimizers.Adam(learning_rate = 0.0055),\n",
    "                 metrics=[\"accuracy\"])\n",
    "\n",
    "# Fit the model\n",
    "history3 = model3.fit(X_train, y_train, epochs=50,validation_data=( X_test, y_test)) "
   ]
  },
  {
   "cell_type": "markdown",
   "id": "019bd818",
   "metadata": {},
   "source": [
    "### На останній епосі, результати стали гірше, ніж з lr за замовчуванням, адже точність між тестовою і тренувальною вибіркою сильно відрізняється ."
   ]
  },
  {
   "cell_type": "markdown",
   "id": "af1efc69",
   "metadata": {},
   "source": [
    "## Побудова прогнозу та confusion matrix. Прогноз будемо будувати за першою моделю, адже вона найкраща."
   ]
  },
  {
   "cell_type": "code",
   "execution_count": 477,
   "id": "5757258e",
   "metadata": {},
   "outputs": [
    {
     "data": {
      "text/plain": [
       "array([[1.8079709e-07, 9.6340340e-01, 4.8023310e-07, ..., 9.3755028e-07,\n",
       "        1.8647431e-07, 2.8949521e-02],\n",
       "       [1.8207834e-07, 9.5834571e-01, 4.8566358e-07, ..., 9.5009091e-07,\n",
       "        1.8783089e-07, 3.6017619e-02],\n",
       "       [1.6650816e-07, 9.5103371e-01, 4.3198236e-07, ..., 8.3370236e-07,\n",
       "        1.7155662e-07, 8.1079016e-03],\n",
       "       ...,\n",
       "       [4.0910292e-10, 1.2431797e-03, 1.3148247e-09, ..., 2.8173692e-09,\n",
       "        4.2554091e-10, 9.9875677e-01],\n",
       "       [9.9125297e-10, 3.1720919e-03, 3.1303817e-09, ..., 6.6504438e-09,\n",
       "        1.0302762e-09, 9.9682790e-01],\n",
       "       [1.4419809e-09, 4.7168462e-03, 4.5199999e-09, ..., 9.5678176e-09,\n",
       "        1.4982564e-09, 9.9528307e-01]], dtype=float32)"
      ]
     },
     "execution_count": 477,
     "metadata": {},
     "output_type": "execute_result"
    }
   ],
   "source": [
    "y_prob = model.predict(X_test)\n",
    "y_prob"
   ]
  },
  {
   "cell_type": "markdown",
   "id": "fbe85a4a",
   "metadata": {},
   "source": [
    "### Прогноз"
   ]
  },
  {
   "cell_type": "code",
   "execution_count": 478,
   "id": "11ada67a",
   "metadata": {},
   "outputs": [
    {
     "data": {
      "text/plain": [
       "array([1, 1, 1, ..., 8, 8, 8], dtype=int64)"
      ]
     },
     "execution_count": 478,
     "metadata": {},
     "output_type": "execute_result"
    }
   ],
   "source": [
    "y_hat = y_prob.argmax(axis=1)\n",
    "y_hat[20:]"
   ]
  },
  {
   "cell_type": "markdown",
   "id": "75ca20c7",
   "metadata": {},
   "source": [
    "### Confusion matrix"
   ]
  },
  {
   "cell_type": "code",
   "execution_count": 479,
   "id": "d26110a4",
   "metadata": {},
   "outputs": [
    {
     "data": {
      "text/html": [
       "<div>\n",
       "<style scoped>\n",
       "    .dataframe tbody tr th:only-of-type {\n",
       "        vertical-align: middle;\n",
       "    }\n",
       "\n",
       "    .dataframe tbody tr th {\n",
       "        vertical-align: top;\n",
       "    }\n",
       "\n",
       "    .dataframe thead th {\n",
       "        text-align: right;\n",
       "    }\n",
       "</style>\n",
       "<table border=\"1\" class=\"dataframe\">\n",
       "  <thead>\n",
       "    <tr style=\"text-align: right;\">\n",
       "      <th></th>\n",
       "      <th>Trouser</th>\n",
       "      <th>Coat</th>\n",
       "      <th>Bag</th>\n",
       "    </tr>\n",
       "  </thead>\n",
       "  <tbody>\n",
       "    <tr>\n",
       "      <th>Trouser</th>\n",
       "      <td>973</td>\n",
       "      <td>10</td>\n",
       "      <td>17</td>\n",
       "    </tr>\n",
       "    <tr>\n",
       "      <th>Coat</th>\n",
       "      <td>68</td>\n",
       "      <td>927</td>\n",
       "      <td>5</td>\n",
       "    </tr>\n",
       "    <tr>\n",
       "      <th>Bag</th>\n",
       "      <td>33</td>\n",
       "      <td>7</td>\n",
       "      <td>960</td>\n",
       "    </tr>\n",
       "  </tbody>\n",
       "</table>\n",
       "</div>"
      ],
      "text/plain": [
       "         Trouser  Coat  Bag\n",
       "Trouser      973    10   17\n",
       "Coat          68   927    5\n",
       "Bag           33     7  960"
      ]
     },
     "execution_count": 479,
     "metadata": {},
     "output_type": "execute_result"
    }
   ],
   "source": [
    "conf_matrix=metrics.confusion_matrix(y_test,y_hat)\n",
    "conf_matrix = pd.DataFrame(conf_matrix, index=['Trouser','Coat','Bag'], columns=['Trouser','Coat','Bag'])\n",
    "conf_matrix"
   ]
  },
  {
   "cell_type": "markdown",
   "id": "329a45fd",
   "metadata": {},
   "source": [
    "### Як видно, з 1000 зразків Trouser правильно класифіковано - 973, Coat - 927, Bag - 960."
   ]
  },
  {
   "cell_type": "markdown",
   "id": "62e7b61a",
   "metadata": {},
   "source": [
    "# 2) Модель з ReLu функцією та нормалізацією."
   ]
  },
  {
   "cell_type": "code",
   "execution_count": 480,
   "id": "796ee7b1",
   "metadata": {},
   "outputs": [
    {
     "data": {
      "text/plain": [
       "(0, 255)"
      ]
     },
     "execution_count": 480,
     "metadata": {},
     "output_type": "execute_result"
    }
   ],
   "source": [
    "X_train.min(), X_train.max()"
   ]
  },
  {
   "cell_type": "markdown",
   "id": "3db2333a",
   "metadata": {},
   "source": [
    "### Нормалізація іксів"
   ]
  },
  {
   "cell_type": "code",
   "execution_count": 481,
   "id": "2404164a",
   "metadata": {},
   "outputs": [],
   "source": [
    "X_train_norm = X_train / 255.0\n",
    "X_test_norm = X_test / 255.0"
   ]
  },
  {
   "cell_type": "markdown",
   "id": "e89a0734",
   "metadata": {},
   "source": [
    "### Тренування"
   ]
  },
  {
   "cell_type": "code",
   "execution_count": 482,
   "id": "f2884501",
   "metadata": {},
   "outputs": [
    {
     "name": "stdout",
     "output_type": "stream",
     "text": [
      "Epoch 1/50\n",
      "563/563 [==============================] - 1s 948us/step - loss: 1.8981 - accuracy: 0.3354 - val_loss: 1.6586 - val_accuracy: 0.3333\n",
      "Epoch 2/50\n",
      "563/563 [==============================] - 0s 696us/step - loss: 1.5140 - accuracy: 0.3333 - val_loss: 1.4014 - val_accuracy: 0.3333\n",
      "Epoch 3/50\n",
      "563/563 [==============================] - 0s 705us/step - loss: 1.3334 - accuracy: 0.3324 - val_loss: 1.2792 - val_accuracy: 0.3333\n",
      "Epoch 4/50\n",
      "563/563 [==============================] - 0s 681us/step - loss: 1.2444 - accuracy: 0.3259 - val_loss: 1.2156 - val_accuracy: 0.3333\n",
      "Epoch 5/50\n",
      "563/563 [==============================] - 0s 681us/step - loss: 1.1960 - accuracy: 0.3291 - val_loss: 1.1793 - val_accuracy: 0.3333\n",
      "Epoch 6/50\n",
      "563/563 [==============================] - 0s 706us/step - loss: 1.1673 - accuracy: 0.3320 - val_loss: 1.1568 - val_accuracy: 0.3333\n",
      "Epoch 7/50\n",
      "563/563 [==============================] - 0s 676us/step - loss: 1.1490 - accuracy: 0.3239 - val_loss: 1.1419 - val_accuracy: 0.3333\n",
      "Epoch 8/50\n",
      "563/563 [==============================] - 0s 674us/step - loss: 1.1365 - accuracy: 0.3314 - val_loss: 1.1316 - val_accuracy: 0.3333\n",
      "Epoch 9/50\n",
      "563/563 [==============================] - 0s 680us/step - loss: 1.1278 - accuracy: 0.3284 - val_loss: 1.1241 - val_accuracy: 0.3333\n",
      "Epoch 10/50\n",
      "563/563 [==============================] - 0s 676us/step - loss: 1.1213 - accuracy: 0.3258 - val_loss: 1.1186 - val_accuracy: 0.3333\n",
      "Epoch 11/50\n",
      "563/563 [==============================] - 0s 676us/step - loss: 1.1165 - accuracy: 0.3313 - val_loss: 1.1143 - val_accuracy: 0.3333\n",
      "Epoch 12/50\n",
      "563/563 [==============================] - 0s 673us/step - loss: 1.1127 - accuracy: 0.3287 - val_loss: 1.1111 - val_accuracy: 0.3333\n",
      "Epoch 13/50\n",
      "563/563 [==============================] - 0s 708us/step - loss: 1.1099 - accuracy: 0.3292 - val_loss: 1.1085 - val_accuracy: 0.3333\n",
      "Epoch 14/50\n",
      "563/563 [==============================] - 0s 681us/step - loss: 1.1075 - accuracy: 0.3321 - val_loss: 1.1065 - val_accuracy: 0.3333\n",
      "Epoch 15/50\n",
      "563/563 [==============================] - 0s 712us/step - loss: 1.1058 - accuracy: 0.3271 - val_loss: 1.1049 - val_accuracy: 0.3333\n",
      "Epoch 16/50\n",
      "563/563 [==============================] - 0s 673us/step - loss: 1.1043 - accuracy: 0.3339 - val_loss: 1.1036 - val_accuracy: 0.3333\n",
      "Epoch 17/50\n",
      "563/563 [==============================] - 0s 680us/step - loss: 1.1032 - accuracy: 0.3343 - val_loss: 1.1026 - val_accuracy: 0.3333\n",
      "Epoch 18/50\n",
      "563/563 [==============================] - 0s 722us/step - loss: 1.1023 - accuracy: 0.3316 - val_loss: 1.1018 - val_accuracy: 0.3333\n",
      "Epoch 19/50\n",
      "563/563 [==============================] - 0s 674us/step - loss: 1.1015 - accuracy: 0.3301 - val_loss: 1.1011 - val_accuracy: 0.3333\n",
      "Epoch 20/50\n",
      "563/563 [==============================] - 0s 784us/step - loss: 1.1010 - accuracy: 0.3306 - val_loss: 1.1006 - val_accuracy: 0.3333\n",
      "Epoch 21/50\n",
      "563/563 [==============================] - 0s 861us/step - loss: 1.1005 - accuracy: 0.3314 - val_loss: 1.1002 - val_accuracy: 0.3333\n",
      "Epoch 22/50\n",
      "563/563 [==============================] - 0s 671us/step - loss: 1.1002 - accuracy: 0.3255 - val_loss: 1.0999 - val_accuracy: 0.3333\n",
      "Epoch 23/50\n",
      "563/563 [==============================] - 0s 669us/step - loss: 1.0999 - accuracy: 0.3268 - val_loss: 1.0996 - val_accuracy: 0.3333\n",
      "Epoch 24/50\n",
      "563/563 [==============================] - 0s 673us/step - loss: 1.0996 - accuracy: 0.3341 - val_loss: 1.0994 - val_accuracy: 0.3333\n",
      "Epoch 25/50\n",
      "563/563 [==============================] - 0s 673us/step - loss: 1.0994 - accuracy: 0.3305 - val_loss: 1.0992 - val_accuracy: 0.3333\n",
      "Epoch 26/50\n",
      "563/563 [==============================] - 0s 681us/step - loss: 1.0993 - accuracy: 0.3347 - val_loss: 1.0991 - val_accuracy: 0.3333\n",
      "Epoch 27/50\n",
      "563/563 [==============================] - 0s 681us/step - loss: 1.0991 - accuracy: 0.3353 - val_loss: 1.0990 - val_accuracy: 0.3333\n",
      "Epoch 28/50\n",
      "563/563 [==============================] - 0s 671us/step - loss: 1.0991 - accuracy: 0.3289 - val_loss: 1.0989 - val_accuracy: 0.3333\n",
      "Epoch 29/50\n",
      "563/563 [==============================] - 0s 689us/step - loss: 1.0990 - accuracy: 0.3319 - val_loss: 1.0989 - val_accuracy: 0.3333\n",
      "Epoch 30/50\n",
      "563/563 [==============================] - 0s 720us/step - loss: 1.0989 - accuracy: 0.3260 - val_loss: 1.0988 - val_accuracy: 0.3333\n",
      "Epoch 31/50\n",
      "563/563 [==============================] - 0s 713us/step - loss: 1.0989 - accuracy: 0.3257 - val_loss: 1.0988 - val_accuracy: 0.3333\n",
      "Epoch 32/50\n",
      "563/563 [==============================] - 0s 697us/step - loss: 1.0989 - accuracy: 0.3327 - val_loss: 1.0988 - val_accuracy: 0.3333\n",
      "Epoch 33/50\n",
      "563/563 [==============================] - 0s 777us/step - loss: 1.0988 - accuracy: 0.3290 - val_loss: 1.0987 - val_accuracy: 0.3333\n",
      "Epoch 34/50\n",
      "563/563 [==============================] - 0s 825us/step - loss: 1.0988 - accuracy: 0.3304 - val_loss: 1.0987 - val_accuracy: 0.3333\n",
      "Epoch 35/50\n",
      "563/563 [==============================] - 0s 655us/step - loss: 1.0988 - accuracy: 0.3281 - val_loss: 1.0987 - val_accuracy: 0.3333\n",
      "Epoch 36/50\n",
      "563/563 [==============================] - 0s 678us/step - loss: 1.0988 - accuracy: 0.3322 - val_loss: 1.0987 - val_accuracy: 0.3333\n",
      "Epoch 37/50\n",
      "563/563 [==============================] - 0s 862us/step - loss: 1.0988 - accuracy: 0.3328 - val_loss: 1.0987 - val_accuracy: 0.3333\n",
      "Epoch 38/50\n",
      "563/563 [==============================] - 1s 1ms/step - loss: 1.0987 - accuracy: 0.3274 - val_loss: 1.0987 - val_accuracy: 0.3333\n",
      "Epoch 39/50\n",
      "563/563 [==============================] - 1s 1ms/step - loss: 1.0987 - accuracy: 0.3287 - val_loss: 1.0987 - val_accuracy: 0.33330s - loss: 1.0987 - accu\n",
      "Epoch 40/50\n",
      "563/563 [==============================] - 0s 862us/step - loss: 1.0987 - accuracy: 0.3289 - val_loss: 1.0987 - val_accuracy: 0.3333\n",
      "Epoch 41/50\n",
      "563/563 [==============================] - 0s 776us/step - loss: 1.0987 - accuracy: 0.3336 - val_loss: 1.0987 - val_accuracy: 0.3333\n",
      "Epoch 42/50\n",
      "563/563 [==============================] - 0s 763us/step - loss: 1.0987 - accuracy: 0.3285 - val_loss: 1.0986 - val_accuracy: 0.3333\n",
      "Epoch 43/50\n",
      "563/563 [==============================] - 1s 968us/step - loss: 1.0987 - accuracy: 0.3346 - val_loss: 1.0986 - val_accuracy: 0.3333\n",
      "Epoch 44/50\n",
      "563/563 [==============================] - 1s 989us/step - loss: 1.0987 - accuracy: 0.3304 - val_loss: 1.0986 - val_accuracy: 0.3333\n",
      "Epoch 45/50\n",
      "563/563 [==============================] - 0s 778us/step - loss: 1.0987 - accuracy: 0.3332 - val_loss: 1.0986 - val_accuracy: 0.3333\n",
      "Epoch 46/50\n",
      "563/563 [==============================] - 0s 761us/step - loss: 1.0987 - accuracy: 0.3365 - val_loss: 1.0986 - val_accuracy: 0.3333\n",
      "Epoch 47/50\n",
      "563/563 [==============================] - 0s 754us/step - loss: 1.0987 - accuracy: 0.3282 - val_loss: 1.0987 - val_accuracy: 0.3333\n",
      "Epoch 48/50\n",
      "563/563 [==============================] - 0s 761us/step - loss: 1.0987 - accuracy: 0.3234 - val_loss: 1.0986 - val_accuracy: 0.3333\n",
      "Epoch 49/50\n",
      "563/563 [==============================] - 0s 764us/step - loss: 1.0987 - accuracy: 0.3305 - val_loss: 1.0986 - val_accuracy: 0.3333\n",
      "Epoch 50/50\n",
      "563/563 [==============================] - 0s 749us/step - loss: 1.0987 - accuracy: 0.3352 - val_loss: 1.0986 - val_accuracy: 0.3333\n"
     ]
    }
   ],
   "source": [
    "# Set random seed\n",
    "tf.random.set_seed(42)\n",
    "\n",
    "model4 = tf.keras.Sequential([\n",
    "  tf.keras.layers.Dense(1,activation=\"relu\"),\n",
    "  tf.keras.layers.Dense(9, activation=\"softmax\")\n",
    "])\n",
    "\n",
    "    \n",
    "# Compile the model\n",
    "model4.compile(loss=tf.keras.losses.SparseCategoricalCrossentropy(),\n",
    "                 optimizer=tf.keras.optimizers.Adam(),\n",
    "                 metrics=[\"accuracy\"])\n",
    " \n",
    "history4 = model4.fit(X_train_norm, y_train, epochs=50,validation_data=(X_test_norm, y_test)) \n"
   ]
  },
  {
   "cell_type": "markdown",
   "id": "12c01c96",
   "metadata": {},
   "source": [
    "### Як видно, точність моделі погана, спробуємо знайти підходящий learning rate."
   ]
  },
  {
   "cell_type": "code",
   "execution_count": 483,
   "id": "5ee69227",
   "metadata": {},
   "outputs": [
    {
     "name": "stdout",
     "output_type": "stream",
     "text": [
      "Epoch 1/50\n",
      "563/563 [==============================] - 1s 981us/step - loss: 1.8981 - accuracy: 0.3354 - val_loss: 1.6586 - val_accuracy: 0.3333\n",
      "Epoch 2/50\n",
      "563/563 [==============================] - 0s 733us/step - loss: 1.5014 - accuracy: 0.3333 - val_loss: 1.3829 - val_accuracy: 0.3333\n",
      "Epoch 3/50\n",
      "563/563 [==============================] - 0s 749us/step - loss: 1.3093 - accuracy: 0.3293 - val_loss: 1.2537 - val_accuracy: 0.3333\n",
      "Epoch 4/50\n",
      "563/563 [==============================] - 0s 767us/step - loss: 1.2179 - accuracy: 0.3252 - val_loss: 1.1899 - val_accuracy: 0.3333\n",
      "Epoch 5/50\n",
      "563/563 [==============================] - 1s 911us/step - loss: 1.1710 - accuracy: 0.3286 - val_loss: 1.1558 - val_accuracy: 0.3333\n",
      "Epoch 6/50\n",
      "563/563 [==============================] - 1s 953us/step - loss: 1.1450 - accuracy: 0.3347 - val_loss: 1.1360 - val_accuracy: 0.3333\n",
      "Epoch 7/50\n",
      "563/563 [==============================] - 0s 673us/step - loss: 1.1295 - accuracy: 0.3258 - val_loss: 1.1238 - val_accuracy: 0.3333\n",
      "Epoch 8/50\n",
      "563/563 [==============================] - 0s 666us/step - loss: 1.1197 - accuracy: 0.3337 - val_loss: 1.1160 - val_accuracy: 0.3333\n",
      "Epoch 9/50\n",
      "563/563 [==============================] - 0s 658us/step - loss: 1.1133 - accuracy: 0.3284 - val_loss: 1.1107 - val_accuracy: 0.3333\n",
      "Epoch 10/50\n",
      "563/563 [==============================] - 0s 662us/step - loss: 1.1089 - accuracy: 0.3297 - val_loss: 1.1070 - val_accuracy: 0.3333\n",
      "Epoch 11/50\n",
      "563/563 [==============================] - 0s 675us/step - loss: 1.1059 - accuracy: 0.3339 - val_loss: 1.1047 - val_accuracy: 0.3333\n",
      "Epoch 12/50\n",
      "563/563 [==============================] - 0s 658us/step - loss: 1.1039 - accuracy: 0.3311 - val_loss: 1.1029 - val_accuracy: 0.3333\n",
      "Epoch 13/50\n",
      "563/563 [==============================] - 0s 662us/step - loss: 1.1025 - accuracy: 0.3272 - val_loss: 1.1015 - val_accuracy: 0.3333\n",
      "Epoch 14/50\n",
      "563/563 [==============================] - 0s 660us/step - loss: 1.1013 - accuracy: 0.3334 - val_loss: 1.1011 - val_accuracy: 0.3333\n",
      "Epoch 15/50\n",
      "563/563 [==============================] - 0s 661us/step - loss: 1.1007 - accuracy: 0.3338 - val_loss: 1.1002 - val_accuracy: 0.3333\n",
      "Epoch 16/50\n",
      "563/563 [==============================] - 0s 658us/step - loss: 1.1001 - accuracy: 0.3322 - val_loss: 1.1001 - val_accuracy: 0.3333\n",
      "Epoch 17/50\n",
      "563/563 [==============================] - 0s 660us/step - loss: 1.0997 - accuracy: 0.3365 - val_loss: 1.0998 - val_accuracy: 0.3333\n",
      "Epoch 18/50\n",
      "563/563 [==============================] - 0s 660us/step - loss: 1.0996 - accuracy: 0.3350 - val_loss: 1.1003 - val_accuracy: 0.3333\n",
      "Epoch 19/50\n",
      "563/563 [==============================] - 0s 763us/step - loss: 1.0995 - accuracy: 0.3298 - val_loss: 1.0991 - val_accuracy: 0.3333\n",
      "Epoch 20/50\n",
      "563/563 [==============================] - 0s 742us/step - loss: 1.0995 - accuracy: 0.3298 - val_loss: 1.0998 - val_accuracy: 0.3333\n",
      "Epoch 21/50\n",
      "563/563 [==============================] - 0s 756us/step - loss: 1.0994 - accuracy: 0.3317 - val_loss: 1.1012 - val_accuracy: 0.3333\n",
      "Epoch 22/50\n",
      "563/563 [==============================] - 0s 747us/step - loss: 1.0999 - accuracy: 0.3289 - val_loss: 1.0988 - val_accuracy: 0.3333\n",
      "Epoch 23/50\n",
      "563/563 [==============================] - 0s 749us/step - loss: 1.0995 - accuracy: 0.3356 - val_loss: 1.0991 - val_accuracy: 0.3333\n",
      "Epoch 24/50\n",
      "563/563 [==============================] - 0s 744us/step - loss: 1.0995 - accuracy: 0.3349 - val_loss: 1.0991 - val_accuracy: 0.3333\n",
      "Epoch 25/50\n",
      "563/563 [==============================] - 0s 754us/step - loss: 1.0996 - accuracy: 0.3316 - val_loss: 1.0987 - val_accuracy: 0.3333\n",
      "Epoch 26/50\n",
      "563/563 [==============================] - 0s 751us/step - loss: 1.0997 - accuracy: 0.3323 - val_loss: 1.0989 - val_accuracy: 0.3333\n",
      "Epoch 27/50\n",
      "563/563 [==============================] - 0s 771us/step - loss: 1.0998 - accuracy: 0.3279 - val_loss: 1.0996 - val_accuracy: 0.3333\n",
      "Epoch 28/50\n",
      "563/563 [==============================] - 0s 758us/step - loss: 1.1000 - accuracy: 0.3319 - val_loss: 1.0997 - val_accuracy: 0.3333\n",
      "Epoch 29/50\n",
      "563/563 [==============================] - 0s 749us/step - loss: 1.1002 - accuracy: 0.3314 - val_loss: 1.0998 - val_accuracy: 0.3333\n",
      "Epoch 30/50\n",
      "563/563 [==============================] - 0s 747us/step - loss: 1.1001 - accuracy: 0.3344 - val_loss: 1.0997 - val_accuracy: 0.3333\n",
      "Epoch 31/50\n",
      "563/563 [==============================] - 0s 752us/step - loss: 1.1009 - accuracy: 0.3286 - val_loss: 1.0988 - val_accuracy: 0.3333\n",
      "Epoch 32/50\n",
      "563/563 [==============================] - 0s 752us/step - loss: 1.1008 - accuracy: 0.3339 - val_loss: 1.0987 - val_accuracy: 0.3333\n",
      "Epoch 33/50\n",
      "563/563 [==============================] - 0s 767us/step - loss: 1.1011 - accuracy: 0.3313 - val_loss: 1.0992 - val_accuracy: 0.3333\n",
      "Epoch 34/50\n",
      "563/563 [==============================] - 0s 752us/step - loss: 1.1016 - accuracy: 0.3338 - val_loss: 1.0993 - val_accuracy: 0.3333\n",
      "Epoch 35/50\n",
      "563/563 [==============================] - 0s 740us/step - loss: 1.1024 - accuracy: 0.3309 - val_loss: 1.1010 - val_accuracy: 0.3333\n",
      "Epoch 36/50\n",
      "563/563 [==============================] - 0s 741us/step - loss: 1.1012 - accuracy: 0.3353 - val_loss: 1.1012 - val_accuracy: 0.3333\n",
      "Epoch 37/50\n",
      "563/563 [==============================] - 0s 754us/step - loss: 1.1022 - accuracy: 0.3363 - val_loss: 1.1000 - val_accuracy: 0.3333\n",
      "Epoch 38/50\n",
      "563/563 [==============================] - 0s 747us/step - loss: 1.1031 - accuracy: 0.3309 - val_loss: 1.1115 - val_accuracy: 0.3333\n",
      "Epoch 39/50\n",
      "563/563 [==============================] - 0s 752us/step - loss: 1.1029 - accuracy: 0.3276 - val_loss: 1.1008 - val_accuracy: 0.3333\n",
      "Epoch 40/50\n",
      "563/563 [==============================] - 0s 812us/step - loss: 1.1039 - accuracy: 0.3376 - val_loss: 1.0999 - val_accuracy: 0.3333\n",
      "Epoch 41/50\n",
      "563/563 [==============================] - 0s 758us/step - loss: 1.1045 - accuracy: 0.3289 - val_loss: 1.0990 - val_accuracy: 0.3333\n",
      "Epoch 42/50\n",
      "563/563 [==============================] - 0s 881us/step - loss: 1.1050 - accuracy: 0.3293 - val_loss: 1.1008 - val_accuracy: 0.3333\n",
      "Epoch 43/50\n",
      "563/563 [==============================] - 1s 897us/step - loss: 1.1060 - accuracy: 0.3346 - val_loss: 1.1215 - val_accuracy: 0.3333\n",
      "Epoch 44/50\n",
      "563/563 [==============================] - 1s 1ms/step - loss: 1.1094 - accuracy: 0.3289 - val_loss: 1.0995 - val_accuracy: 0.3333\n",
      "Epoch 45/50\n",
      "563/563 [==============================] - 0s 868us/step - loss: 1.1073 - accuracy: 0.3277 - val_loss: 1.0998 - val_accuracy: 0.3333\n",
      "Epoch 46/50\n",
      "563/563 [==============================] - 0s 878us/step - loss: 1.1071 - accuracy: 0.3331 - val_loss: 1.1126 - val_accuracy: 0.3333\n",
      "Epoch 47/50\n",
      "563/563 [==============================] - 0s 719us/step - loss: 1.1099 - accuracy: 0.3365 - val_loss: 1.1094 - val_accuracy: 0.3333\n",
      "Epoch 48/50\n",
      "563/563 [==============================] - 1s 1ms/step - loss: 1.1121 - accuracy: 0.3364 - val_loss: 1.1134 - val_accuracy: 0.3333\n",
      "Epoch 49/50\n",
      "563/563 [==============================] - 0s 785us/step - loss: 1.1118 - accuracy: 0.3373 - val_loss: 1.1102 - val_accuracy: 0.3333\n",
      "Epoch 50/50\n",
      "563/563 [==============================] - 0s 760us/step - loss: 1.1130 - accuracy: 0.3256 - val_loss: 1.1155 - val_accuracy: 0.3333\n"
     ]
    }
   ],
   "source": [
    "tf.random.set_seed(42)\n",
    "\n",
    "model5 = tf.keras.Sequential([\n",
    "  tf.keras.layers.Dense(1,activation=\"relu\"),\n",
    "  tf.keras.layers.Dense(9, activation=\"softmax\")\n",
    "])\n",
    "\n",
    "    \n",
    "# Compile the model\n",
    "model5.compile(loss=tf.keras.losses.SparseCategoricalCrossentropy(),\n",
    "                 optimizer=tf.keras.optimizers.Adam(),\n",
    "                 metrics=[\"accuracy\"])\n",
    "lr_scheduler = tf.keras.callbacks.LearningRateScheduler(lambda epoch: 1e-3 * 10**(epoch/20)) \n",
    "history5 = model5.fit(X_train_norm, y_train, epochs=50,validation_data=(X_test_norm, y_test),callbacks=[lr_scheduler]) "
   ]
  },
  {
   "cell_type": "code",
   "execution_count": 484,
   "id": "f9b83ede",
   "metadata": {},
   "outputs": [
    {
     "data": {
      "image/png": "[encoded data removed]",
      "text/plain": [
       "<Figure size 720x504 with 1 Axes>"
      ]
     },
     "metadata": {
      "needs_background": "light"
     },
     "output_type": "display_data"
    }
   ],
   "source": [
    "# Plot the learning rate versus the loss\n",
    "lrs = 1e-3 * (10**(np.arange(50)/20))\n",
    "plt.figure(figsize=(10, 7))\n",
    "plt.semilogx(lrs, history5.history[\"loss\"]) # we want the x-axis (learning rate) to be log scale\n",
    "plt.xlabel(\"Learning Rate\")\n",
    "plt.ylabel(\"Loss\")\n",
    "plt.title(\"Learning rate vs. loss\");"
   ]
  },
  {
   "cell_type": "markdown",
   "id": "b77e7cf8",
   "metadata": {},
   "source": [
    "### Як видно з графіку і з результатів моделі, найкращий lr - за замовчуванням.Оскільки точність моделі ніяк не змінюється з кожною епохою, то спробуємо змінити архітектуру мережі."
   ]
  },
  {
   "cell_type": "code",
   "execution_count": 485,
   "id": "8d014fd2",
   "metadata": {},
   "outputs": [
    {
     "name": "stdout",
     "output_type": "stream",
     "text": [
      "Epoch 1/50\n",
      "563/563 [==============================] - 1s 1ms/step - loss: 0.8928 - accuracy: 0.8638 - val_loss: 0.5475 - val_accuracy: 0.9800\n",
      "Epoch 2/50\n",
      "563/563 [==============================] - 0s 870us/step - loss: 0.4405 - accuracy: 0.9823 - val_loss: 0.3457 - val_accuracy: 0.9847\n",
      "Epoch 3/50\n",
      "563/563 [==============================] - 0s 868us/step - loss: 0.2550 - accuracy: 0.9844 - val_loss: 0.1089 - val_accuracy: 0.9827\n",
      "Epoch 4/50\n",
      "563/563 [==============================] - 0s 878us/step - loss: 0.0708 - accuracy: 0.9863 - val_loss: 0.0902 - val_accuracy: 0.9820\n",
      "Epoch 5/50\n",
      "563/563 [==============================] - 0s 855us/step - loss: 0.0526 - accuracy: 0.9882 - val_loss: 0.0531 - val_accuracy: 0.9860\n",
      "Epoch 6/50\n",
      "563/563 [==============================] - 0s 870us/step - loss: 0.0443 - accuracy: 0.9896 - val_loss: 0.0477 - val_accuracy: 0.9873\n",
      "Epoch 7/50\n",
      "563/563 [==============================] - 0s 864us/step - loss: 0.0386 - accuracy: 0.9899 - val_loss: 0.0434 - val_accuracy: 0.9893\n",
      "Epoch 8/50\n",
      "563/563 [==============================] - 0s 871us/step - loss: 0.0348 - accuracy: 0.9905 - val_loss: 0.0507 - val_accuracy: 0.9860\n",
      "Epoch 9/50\n",
      "563/563 [==============================] - 0s 862us/step - loss: 0.0315 - accuracy: 0.9912 - val_loss: 0.0470 - val_accuracy: 0.9883\n",
      "Epoch 10/50\n",
      "563/563 [==============================] - 0s 862us/step - loss: 0.0310 - accuracy: 0.9914 - val_loss: 0.0489 - val_accuracy: 0.9877\n",
      "Epoch 11/50\n",
      "563/563 [==============================] - 0s 862us/step - loss: 0.0283 - accuracy: 0.9916 - val_loss: 0.0540 - val_accuracy: 0.9850\n",
      "Epoch 12/50\n",
      "563/563 [==============================] - 0s 866us/step - loss: 0.0255 - accuracy: 0.9923 - val_loss: 0.0495 - val_accuracy: 0.9873\n",
      "Epoch 13/50\n",
      "563/563 [==============================] - 0s 873us/step - loss: 0.0230 - accuracy: 0.9933 - val_loss: 0.0480 - val_accuracy: 0.9883\n",
      "Epoch 14/50\n",
      "563/563 [==============================] - 0s 866us/step - loss: 0.0227 - accuracy: 0.9931 - val_loss: 0.0407 - val_accuracy: 0.9903\n",
      "Epoch 15/50\n",
      "563/563 [==============================] - 0s 854us/step - loss: 0.0202 - accuracy: 0.9936 - val_loss: 0.0418 - val_accuracy: 0.9893\n",
      "Epoch 16/50\n",
      "563/563 [==============================] - 0s 855us/step - loss: 0.0191 - accuracy: 0.9944 - val_loss: 0.0414 - val_accuracy: 0.9877\n",
      "Epoch 17/50\n",
      "563/563 [==============================] - 0s 843us/step - loss: 0.0197 - accuracy: 0.9939 - val_loss: 0.0408 - val_accuracy: 0.9880\n",
      "Epoch 18/50\n",
      "563/563 [==============================] - 0s 850us/step - loss: 0.0179 - accuracy: 0.9942 - val_loss: 0.0449 - val_accuracy: 0.9880\n",
      "Epoch 19/50\n",
      "563/563 [==============================] - 0s 857us/step - loss: 0.0156 - accuracy: 0.9956 - val_loss: 0.0426 - val_accuracy: 0.9890\n",
      "Epoch 20/50\n",
      "563/563 [==============================] - 0s 852us/step - loss: 0.0161 - accuracy: 0.9952 - val_loss: 0.0414 - val_accuracy: 0.9893\n",
      "Epoch 21/50\n",
      "563/563 [==============================] - 0s 845us/step - loss: 0.0146 - accuracy: 0.9953 - val_loss: 0.0443 - val_accuracy: 0.9887\n",
      "Epoch 22/50\n",
      "563/563 [==============================] - 0s 850us/step - loss: 0.0143 - accuracy: 0.9959 - val_loss: 0.0454 - val_accuracy: 0.9907\n",
      "Epoch 23/50\n",
      "563/563 [==============================] - 0s 850us/step - loss: 0.0138 - accuracy: 0.9956 - val_loss: 0.0444 - val_accuracy: 0.9907\n",
      "Epoch 24/50\n",
      "563/563 [==============================] - 1s 1ms/step - loss: 0.0135 - accuracy: 0.9963 - val_loss: 0.0554 - val_accuracy: 0.9867\n",
      "Epoch 25/50\n",
      "563/563 [==============================] - 1s 1ms/step - loss: 0.0116 - accuracy: 0.9969 - val_loss: 0.0457 - val_accuracy: 0.9907\n",
      "Epoch 26/50\n",
      "563/563 [==============================] - 1s 921us/step - loss: 0.0121 - accuracy: 0.9963 - val_loss: 0.0431 - val_accuracy: 0.9900\n",
      "Epoch 27/50\n",
      "563/563 [==============================] - 1s 976us/step - loss: 0.0127 - accuracy: 0.9966 - val_loss: 0.0488 - val_accuracy: 0.9893\n",
      "Epoch 28/50\n",
      "563/563 [==============================] - 1s 916us/step - loss: 0.0121 - accuracy: 0.9962 - val_loss: 0.0460 - val_accuracy: 0.9893\n",
      "Epoch 29/50\n",
      "563/563 [==============================] - 1s 937us/step - loss: 0.0128 - accuracy: 0.9963 - val_loss: 0.0405 - val_accuracy: 0.9910\n",
      "Epoch 30/50\n",
      "563/563 [==============================] - 1s 953us/step - loss: 0.0100 - accuracy: 0.9972 - val_loss: 0.0388 - val_accuracy: 0.9920\n",
      "Epoch 31/50\n",
      "563/563 [==============================] - 1s 942us/step - loss: 0.0093 - accuracy: 0.9976 - val_loss: 0.0458 - val_accuracy: 0.9883\n",
      "Epoch 32/50\n",
      "563/563 [==============================] - 1s 949us/step - loss: 0.0091 - accuracy: 0.9977 - val_loss: 0.0444 - val_accuracy: 0.9900\n",
      "Epoch 33/50\n",
      "563/563 [==============================] - 1s 909us/step - loss: 0.0083 - accuracy: 0.9972 - val_loss: 0.0501 - val_accuracy: 0.9900\n",
      "Epoch 34/50\n",
      "563/563 [==============================] - 1s 925us/step - loss: 0.0079 - accuracy: 0.9975 - val_loss: 0.0525 - val_accuracy: 0.9893\n",
      "Epoch 35/50\n",
      "563/563 [==============================] - 1s 944us/step - loss: 0.0097 - accuracy: 0.9971 - val_loss: 0.0528 - val_accuracy: 0.9900\n",
      "Epoch 36/50\n",
      "563/563 [==============================] - 1s 948us/step - loss: 0.0076 - accuracy: 0.9976 - val_loss: 0.0476 - val_accuracy: 0.9900\n",
      "Epoch 37/50\n",
      "563/563 [==============================] - 1s 926us/step - loss: 0.0086 - accuracy: 0.9974 - val_loss: 0.0542 - val_accuracy: 0.9913\n",
      "Epoch 38/50\n",
      "563/563 [==============================] - 1s 917us/step - loss: 0.0064 - accuracy: 0.9981 - val_loss: 0.0574 - val_accuracy: 0.9903\n",
      "Epoch 39/50\n",
      "563/563 [==============================] - 1s 917us/step - loss: 0.0060 - accuracy: 0.9981 - val_loss: 0.0604 - val_accuracy: 0.9907\n",
      "Epoch 40/50\n",
      "563/563 [==============================] - 1s 921us/step - loss: 0.0078 - accuracy: 0.9972 - val_loss: 0.0523 - val_accuracy: 0.9887\n",
      "Epoch 41/50\n",
      "563/563 [==============================] - 1s 925us/step - loss: 0.0078 - accuracy: 0.9975 - val_loss: 0.0655 - val_accuracy: 0.9903\n",
      "Epoch 42/50\n",
      "563/563 [==============================] - 1s 951us/step - loss: 0.0052 - accuracy: 0.9985 - val_loss: 0.0541 - val_accuracy: 0.9890\n",
      "Epoch 43/50\n",
      "563/563 [==============================] - 1s 914us/step - loss: 0.0060 - accuracy: 0.9983 - val_loss: 0.0571 - val_accuracy: 0.9900\n",
      "Epoch 44/50\n",
      "563/563 [==============================] - 1s 919us/step - loss: 0.0069 - accuracy: 0.9980 - val_loss: 0.0622 - val_accuracy: 0.9900\n",
      "Epoch 45/50\n",
      "563/563 [==============================] - 1s 923us/step - loss: 0.0063 - accuracy: 0.9982 - val_loss: 0.0666 - val_accuracy: 0.9893\n",
      "Epoch 46/50\n",
      "563/563 [==============================] - 1s 932us/step - loss: 0.0063 - accuracy: 0.9982 - val_loss: 0.0791 - val_accuracy: 0.9877\n",
      "Epoch 47/50\n",
      "563/563 [==============================] - 1s 942us/step - loss: 0.0066 - accuracy: 0.9981 - val_loss: 0.0613 - val_accuracy: 0.9897\n",
      "Epoch 48/50\n",
      "563/563 [==============================] - 1s 910us/step - loss: 0.0040 - accuracy: 0.9988 - val_loss: 0.0691 - val_accuracy: 0.9903\n",
      "Epoch 49/50\n",
      "563/563 [==============================] - 1s 921us/step - loss: 0.0105 - accuracy: 0.9961 - val_loss: 0.0592 - val_accuracy: 0.9897\n",
      "Epoch 50/50\n",
      "563/563 [==============================] - 1s 921us/step - loss: 0.0064 - accuracy: 0.9979 - val_loss: 0.0625 - val_accuracy: 0.9903\n"
     ]
    }
   ],
   "source": [
    "tf.random.set_seed(42)\n",
    "\n",
    "model6 = tf.keras.Sequential([\n",
    "  tf.keras.layers.Dense(10,activation=\"relu\"),\n",
    "  tf.keras.layers.Dense(10,activation=\"relu\"),  \n",
    "  tf.keras.layers.Dense(4,activation=\"relu\"),\n",
    "  tf.keras.layers.Dense(9, activation=\"softmax\")\n",
    "])\n",
    "\n",
    "    \n",
    "# Compile the model\n",
    "model6.compile(loss=tf.keras.losses.SparseCategoricalCrossentropy(),\n",
    "                 optimizer=tf.keras.optimizers.Adam(),\n",
    "                 metrics=[\"accuracy\"])\n",
    "# Fit the model\n",
    "history6 = model6.fit(X_train_norm, y_train, epochs=50,validation_data=( X_test_norm, y_test)) "
   ]
  },
  {
   "cell_type": "markdown",
   "id": "238ee844",
   "metadata": {},
   "source": [
    "### Як видно, точність майже стовідсоткова."
   ]
  },
  {
   "cell_type": "markdown",
   "id": "4e57b7ae",
   "metadata": {},
   "source": [
    "### Прогноз тa Confusion matrix"
   ]
  },
  {
   "cell_type": "code",
   "execution_count": 486,
   "id": "67210535",
   "metadata": {},
   "outputs": [
    {
     "data": {
      "text/html": [
       "<div>\n",
       "<style scoped>\n",
       "    .dataframe tbody tr th:only-of-type {\n",
       "        vertical-align: middle;\n",
       "    }\n",
       "\n",
       "    .dataframe tbody tr th {\n",
       "        vertical-align: top;\n",
       "    }\n",
       "\n",
       "    .dataframe thead th {\n",
       "        text-align: right;\n",
       "    }\n",
       "</style>\n",
       "<table border=\"1\" class=\"dataframe\">\n",
       "  <thead>\n",
       "    <tr style=\"text-align: right;\">\n",
       "      <th></th>\n",
       "      <th>Trouser</th>\n",
       "      <th>Coat</th>\n",
       "      <th>Bag</th>\n",
       "    </tr>\n",
       "  </thead>\n",
       "  <tbody>\n",
       "    <tr>\n",
       "      <th>Trouser</th>\n",
       "      <td>990</td>\n",
       "      <td>6</td>\n",
       "      <td>4</td>\n",
       "    </tr>\n",
       "    <tr>\n",
       "      <th>Coat</th>\n",
       "      <td>1</td>\n",
       "      <td>992</td>\n",
       "      <td>7</td>\n",
       "    </tr>\n",
       "    <tr>\n",
       "      <th>Bag</th>\n",
       "      <td>2</td>\n",
       "      <td>9</td>\n",
       "      <td>989</td>\n",
       "    </tr>\n",
       "  </tbody>\n",
       "</table>\n",
       "</div>"
      ],
      "text/plain": [
       "         Trouser  Coat  Bag\n",
       "Trouser      990     6    4\n",
       "Coat           1   992    7\n",
       "Bag            2     9  989"
      ]
     },
     "execution_count": 486,
     "metadata": {},
     "output_type": "execute_result"
    }
   ],
   "source": [
    "y_prob = model6.predict(X_test_norm)\n",
    "y_hat = y_prob.argmax(axis=1)\n",
    "conf_matrix=metrics.confusion_matrix(y_test,y_hat)\n",
    "conf_matrix = pd.DataFrame(conf_matrix, index=['Trouser','Coat','Bag'], columns=['Trouser','Coat','Bag'])\n",
    "conf_matrix"
   ]
  },
  {
   "cell_type": "markdown",
   "id": "fe82e609",
   "metadata": {},
   "source": [
    "### Як видно, з 1000 зразків Trouser правильно класифіковано - 990, Coat - 992, Bag - 989."
   ]
  },
  {
   "cell_type": "markdown",
   "id": "9f145900",
   "metadata": {},
   "source": [
    "# Висновки\n",
    "В результаті виконання даної лабораторної була проведена класифікація за домомогою нейронних мереж. Найкращою виявилася модель з активаційною функцією ReLu та нормалізованими даними з кроком навчання, який задається по дефолту."
   ]
  },
  {
   "cell_type": "code",
   "execution_count": null,
   "id": "397f63c9",
   "metadata": {},
   "outputs": [],
   "source": []
  }
 ],
 "metadata": {
  "kernelspec": {
   "display_name": "Python 3 (ipykernel)",
   "language": "python",
   "name": "python3"
  },
  "language_info": {
   "codemirror_mode": {
    "name": "ipython",
    "version": 3
   },
   "file_extension": ".py",
   "mimetype": "text/x-python",
   "name": "python",
   "nbconvert_exporter": "python",
   "pygments_lexer": "ipython3",
   "version": "3.9.7"
  }
 },
 "nbformat": 4,
 "nbformat_minor": 5
}
