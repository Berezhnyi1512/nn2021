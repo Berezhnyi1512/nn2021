{
 "cells": [
  {
   "cell_type": "markdown",
   "id": "83c093d6",
   "metadata": {},
   "source": [
    "## Лабораторна робота №5\n",
    "з дисципліни \"Нейронні мережі\"\n",
    "  \n",
    "студента групи АнД-41\n",
    "  \n",
    "Бережного Дмитра\n",
    "\n",
    "### Варіант № 2"
   ]
  },
  {
   "cell_type": "markdown",
   "id": "af98cf29",
   "metadata": {},
   "source": [
    "## Завдання\n",
    "\n",
    "1. Виконати вирішення задачs класифікації для 3 класів з набору даних food101 з використанням різних моделей нейронних мереж:\n",
    "\n",
    "1.1  CNN модель з лабораторної роботи 4;\n",
    "\n",
    "1.2  Resnet модель;\n",
    "\n",
    "1.3  Efficientnet модель (моделі 1.1-1.3 з використанням оптимізатора Adam);\n",
    "\n",
    "1.4  Моделі 1.2,1.3 з використанням оптимізатора SGD.\n",
    "\n",
    "2. Індекси класів визначити індивідуально за залежностями: i1=n-1,i2=n+29,i3=n+59 (де і1,і2,і3 - індекс класу (починаючи з 0) у відсортованому за алфавітом наборі даних, n - номер за списком групи.\n",
    "\n",
    "3. Порівняти результати моделювання із використанням TensorBoard.\n",
    "\n",
    "4. Графік(и) порівняння результатів завантажити у форматі .svg та вставити у підсумковий файл поряд із та відповідними висновками. \n",
    "\n",
    "5. Результати оформити у вигляді файлу з кодом для моделювання та візуалізації у форматі .ipynb.\n",
    "\n",
    "6. Результати викласти у репозиторії GitHub (папка Lab5).\n",
    "\n",
    "7. Підготуватися до захисту лабораторрної роботи (пояснення коду, відповіді на запитання за темою).\n",
    "\n",
    "#### Індекси за варіантом: 1,31,61"
   ]
  },
  {
   "cell_type": "code",
   "execution_count": 32,
   "id": "4025247e",
   "metadata": {},
   "outputs": [],
   "source": [
    "import matplotlib.pyplot as plt\n",
    "import random\n",
    "import datetime\n",
    "import os\n",
    "import time\n",
    "import pathlib\n",
    "import pandas as pd\n",
    "import numpy as np\n",
    "import sklearn.metrics as metrics\n",
    "from sklearn.metrics import confusion_matrix\n",
    "import tensorflow as tf\n",
    "import tensorflow_hub as hub\n",
    "from tensorflow.keras.preprocessing.image import ImageDataGenerator\n",
    "from tensorflow.keras import Sequential\n",
    "from tensorflow.keras.layers import Conv2D, MaxPool2D,Flatten,Dense,BatchNormalization,Dropout\n",
    "from tensorflow.keras.optimizers import Adam"
   ]
  },
  {
   "cell_type": "markdown",
   "id": "298c7674",
   "metadata": {},
   "source": [
    "### Виведемо назви класів"
   ]
  },
  {
   "cell_type": "code",
   "execution_count": 33,
   "id": "a24c44fc",
   "metadata": {},
   "outputs": [
    {
     "name": "stdout",
     "output_type": "stream",
     "text": [
      "['apple_pie' 'deviled_eggs' 'lobster_bisque']\n"
     ]
    }
   ],
   "source": [
    "data_dir = pathlib.Path(\"101_food_classes_10_percent/train/\") # turn our training path into a Python path\n",
    "class_names = np.array(sorted([item.name for item in data_dir.glob('*')])) # created a list of class_names from the subdirectories\n",
    "print(class_names)"
   ]
  },
  {
   "cell_type": "markdown",
   "id": "c03faf3b",
   "metadata": {},
   "source": [
    "### Зчитаємо дані"
   ]
  },
  {
   "cell_type": "code",
   "execution_count": 34,
   "id": "259b68cc",
   "metadata": {},
   "outputs": [
    {
     "name": "stdout",
     "output_type": "stream",
     "text": [
      "Found 750 images belonging to 3 classes.\n",
      "Found 225 images belonging to 3 classes.\n"
     ]
    }
   ],
   "source": [
    "train_datagen = ImageDataGenerator(rescale = 1/255., horizontal_flip = True,\n",
    "                                   brightness_range = (0.2, 0.4), shear_range = 0.2, zoom_range = 0.2,  \n",
    "                                   rotation_range = 0.3)\n",
    "test_datagen = ImageDataGenerator(rescale = 1/255.)\n",
    "\n",
    " \n",
    "train_dir = \"101_food_classes_10_percent/train/\"\n",
    "test_dir = \"101_food_classes_10_percent/test/\"\n",
    "\n",
    "\n",
    "train_data = train_datagen.flow_from_directory(train_dir,\n",
    "                                               batch_size=32, # number of images to process at a time \n",
    "                                               target_size=(224, 224), # convert all images to be 224 x 224\n",
    "                                               class_mode=\"categorical\", # type of problem we're working on\n",
    "                                               seed=42)\n",
    "\n",
    "test_data = test_datagen.flow_from_directory(test_dir,\n",
    "                                               batch_size=32,\n",
    "                                               target_size=(224, 224),\n",
    "                                               seed=42,shuffle = 'False',\n",
    "                                               color_mode=\"rgb\",\n",
    "                                               class_mode=\"categorical\")"
   ]
  },
  {
   "cell_type": "code",
   "execution_count": 35,
   "id": "d8723d41",
   "metadata": {},
   "outputs": [
    {
     "name": "stdout",
     "output_type": "stream",
     "text": [
      "<keras.preprocessing.image.DirectoryIterator object at 0x000001FA2C31BCD0>\n"
     ]
    }
   ],
   "source": [
    "print(test_data)"
   ]
  },
  {
   "cell_type": "markdown",
   "id": "009b38d7",
   "metadata": {},
   "source": [
    "# 1. CNN модель з лабораторної роботи 4"
   ]
  },
  {
   "cell_type": "code",
   "execution_count": 36,
   "id": "afead53f",
   "metadata": {},
   "outputs": [
    {
     "name": "stdout",
     "output_type": "stream",
     "text": [
      "Epoch 1/5\n",
      "24/24 [==============================] - 23s 925ms/step - loss: 1.0960 - accuracy: 0.3733 - val_loss: 1.1289 - val_accuracy: 0.3511\n",
      "Epoch 2/5\n",
      "24/24 [==============================] - 22s 899ms/step - loss: 1.0408 - accuracy: 0.4387 - val_loss: 1.0347 - val_accuracy: 0.5111\n",
      "Epoch 3/5\n",
      "24/24 [==============================] - 22s 892ms/step - loss: 0.9816 - accuracy: 0.5027 - val_loss: 1.2519 - val_accuracy: 0.4800\n",
      "Epoch 4/5\n",
      "24/24 [==============================] - 22s 894ms/step - loss: 0.9197 - accuracy: 0.5453 - val_loss: 1.2733 - val_accuracy: 0.5289\n",
      "Epoch 5/5\n",
      "24/24 [==============================] - 22s 908ms/step - loss: 0.9233 - accuracy: 0.5507 - val_loss: 1.0871 - val_accuracy: 0.5733\n",
      "Час навчання: 111.78  секунд\n"
     ]
    }
   ],
   "source": [
    "tf.random.set_seed(42)\n",
    "model_1 = tf.keras.models.Sequential([\n",
    "  Conv2D(filters=10, kernel_size=3, activation=\"relu\", input_shape=(224, 224, 3)), # first layer specifies input shape (height, width, colour channels)\n",
    "  Conv2D(10, 3, activation=\"relu\"),\n",
    "  MaxPool2D(pool_size=2,  padding=\"valid\"), # padding can also be 'same'\n",
    "  Conv2D(10, 3, activation=\"relu\"),\n",
    "  Conv2D(10, 3, activation=\"relu\"), \n",
    "  MaxPool2D(2),\n",
    "  Flatten(),\n",
    "  Dense(3, activation=\"softmax\")])\n",
    "\n",
    "\n",
    "model_1.compile(loss=\"categorical_crossentropy\",\n",
    "              optimizer=tf.keras.optimizers.Adam(),\n",
    "              metrics=[\"accuracy\"])\n",
    "\n",
    "CNN_model_time = time.time()\n",
    "history_CNN = model_1.fit(train_data,epochs=5,validation_data=test_data)\n",
    "time_CNN = time.time() - CNN_model_time\n",
    "print(\"Час навчання:\", round(time_CNN,2), \" секунд\" )"
   ]
  },
  {
   "cell_type": "markdown",
   "id": "6f32245c",
   "metadata": {},
   "source": [
    "### Візуалізація точності"
   ]
  },
  {
   "cell_type": "code",
   "execution_count": 37,
   "id": "3af7ee2a",
   "metadata": {},
   "outputs": [],
   "source": [
    "def plot_accuracy(history):\n",
    "    accuracy = history.history['accuracy']\n",
    "    val_accuracy = history.history['val_accuracy']\n",
    "\n",
    "    epochs = range(len(history.history['loss']))\n",
    "\n",
    "    # Plot accuracy\n",
    "    plt.figure(figsize = (9,5))\n",
    "    plt.plot(epochs, accuracy, label='training_accuracy')\n",
    "    plt.plot(epochs, val_accuracy, label='val_accuracy')\n",
    "    plt.title('Accuracy per epoch',fontsize = 20)\n",
    "    plt.xlabel('Epochs',fontsize = 20)\n",
    "    plt.legend(prop={'size': 14})"
   ]
  },
  {
   "cell_type": "code",
   "execution_count": 38,
   "id": "67c1cacd",
   "metadata": {},
   "outputs": [
    {
     "data": {
      "image/png": "[encoded data removed]",
      "text/plain": [
       "<Figure size 648x360 with 1 Axes>"
      ]
     },
     "metadata": {
      "needs_background": "light"
     },
     "output_type": "display_data"
    }
   ],
   "source": [
    "plot_accuracy(history_CNN)"
   ]
  },
  {
   "cell_type": "markdown",
   "id": "6bdb1bfe",
   "metadata": {},
   "source": [
    "### Прогноз"
   ]
  },
  {
   "cell_type": "code",
   "execution_count": 39,
   "id": "9070a54d",
   "metadata": {},
   "outputs": [],
   "source": [
    "true_y = []\n",
    "for batch in range(len(test_data)):\n",
    "    true_y += list(test_data[batch][-1].argmax(axis=1))"
   ]
  },
  {
   "cell_type": "code",
   "execution_count": 40,
   "id": "d585b2ce",
   "metadata": {},
   "outputs": [
    {
     "data": {
      "text/plain": [
       "225"
      ]
     },
     "execution_count": 40,
     "metadata": {},
     "output_type": "execute_result"
    }
   ],
   "source": [
    "len(true_y)"
   ]
  },
  {
   "cell_type": "code",
   "execution_count": 41,
   "id": "f7b00f2f",
   "metadata": {},
   "outputs": [
    {
     "name": "stdout",
     "output_type": "stream",
     "text": [
      "[2, 2, 0, 1, 2, 0, 1, 2, 0, 0, 0, 0, 1, 1, 1, 0, 2, 2, 1, 0, 0, 0, 2, 0, 0, 1, 2, 0, 1, 0, 1, 2, 1, 1, 0, 1, 2, 2, 1, 0, 1, 2, 1, 1, 0, 0, 1, 2, 1, 1, 2, 0, 2, 0, 1, 2, 1, 0, 0, 0, 1, 2, 1, 0, 2, 0, 2, 0, 2, 1, 0, 2, 0, 0, 2, 2, 1, 1, 2, 1, 0, 0, 1, 0, 0, 1, 1, 0, 2, 2, 2, 0, 1, 1, 1, 1, 0, 2, 1, 0, 0, 1, 2, 2, 2, 2, 2, 2, 2, 1, 2, 1, 0, 1, 0, 2, 0, 2, 0, 2, 2, 1, 2, 1, 2, 1, 2, 1, 1, 2, 2, 0, 2, 2, 0, 1, 2, 0, 1, 1, 2, 1, 2, 1, 1, 0, 1, 2, 1, 2, 1, 2, 0, 0, 0, 1, 0, 1, 2, 1, 0, 0, 1, 1, 0, 1, 2, 0, 0, 0, 2, 1, 1, 2, 2, 2, 2, 2, 2, 1, 0, 2, 0, 2, 1, 1, 2, 0, 0, 0, 0, 0, 0, 2, 0, 1, 2, 0, 0, 2, 0, 1, 1, 0, 2, 1, 0, 1, 2, 0, 0, 2, 2, 1, 1, 0, 1, 0, 2, 1, 1, 0, 2, 1, 2]\n"
     ]
    }
   ],
   "source": [
    "print(true_y)"
   ]
  },
  {
   "cell_type": "code",
   "execution_count": 42,
   "id": "e705058e",
   "metadata": {},
   "outputs": [],
   "source": [
    "def forecast_and_conf_matrix(model,true_y):\n",
    "    pred = model.predict(test_data).argmax(axis=1)\n",
    "    conf_matrix=metrics.confusion_matrix(true_y,pred)    \n",
    "    conf_matrix = pd.DataFrame(confusion_matrix(y_pred=pred, y_true=true_y), \n",
    "                            index=class_names, columns=class_names)\n",
    "    print(\"Confusion matrix:\")\n",
    "    print(conf_matrix)   "
   ]
  },
  {
   "cell_type": "code",
   "execution_count": 43,
   "id": "24edeb80",
   "metadata": {},
   "outputs": [
    {
     "name": "stdout",
     "output_type": "stream",
     "text": [
      "Confusion matrix:\n",
      "                apple_pie  deviled_eggs  lobster_bisque\n",
      "apple_pie              35            21              19\n",
      "deviled_eggs           20            46               9\n",
      "lobster_bisque         13            14              48\n"
     ]
    }
   ],
   "source": [
    "forecast_and_conf_matrix(model_1,true_y)"
   ]
  },
  {
   "cell_type": "markdown",
   "id": "dbaa9ce2",
   "metadata": {},
   "source": [
    " # 2. Resnet модель "
   ]
  },
  {
   "cell_type": "markdown",
   "id": "8885558e",
   "metadata": {},
   "source": [
    "## 2.1 Adam optimizer"
   ]
  },
  {
   "cell_type": "code",
   "execution_count": 53,
   "id": "e4be88e5",
   "metadata": {},
   "outputs": [],
   "source": [
    "def create_tensorboard_callback(dir_name, experiment_name):\n",
    "    log_dir = dir_name + \"/\" + experiment_name + \"/\" + datetime.datetime.now().strftime(\"%Y%m%d-%H%M%S\")\n",
    "    tensorboard_callback = tf.keras.callbacks.TensorBoard(\n",
    "      log_dir=log_dir\n",
    "  )\n",
    "    print(f\"Saving TensorBoard log files to: {log_dir}\")\n",
    "    return tensorboard_callback"
   ]
  },
  {
   "cell_type": "code",
   "execution_count": 54,
   "id": "ee801e56",
   "metadata": {},
   "outputs": [],
   "source": [
    "resnet_url = \"https://tfhub.dev/google/imagenet/resnet_v1_101/feature_vector/5\"\n",
    "IMAGE_SHAPE=(224,224)"
   ]
  },
  {
   "cell_type": "code",
   "execution_count": 55,
   "id": "4ae147df",
   "metadata": {},
   "outputs": [],
   "source": [
    "def create_BC_model(model_url):\n",
    "    feature_extractor_layer = hub.KerasLayer(model_url,\n",
    "                                           trainable=False, # freeze the underlying patterns\n",
    "                                           name='feature_extraction_layer',\n",
    "                                           input_shape=IMAGE_SHAPE+(3,)) # define the input image shape\n",
    "  \n",
    "  # Create our own model\n",
    "    model = tf.keras.Sequential([\n",
    "    feature_extractor_layer, # use the feature extraction layer as the base\n",
    "    Dense(3, activation='softmax', name='output_layer') # create our own output layer      \n",
    "  ])\n",
    "\n",
    "    return model"
   ]
  },
  {
   "cell_type": "code",
   "execution_count": 56,
   "id": "eb3263ea",
   "metadata": {},
   "outputs": [],
   "source": [
    "resnet_Adam_model = create_BC_model(resnet_url)"
   ]
  },
  {
   "cell_type": "code",
   "execution_count": 57,
   "id": "ed7e1469",
   "metadata": {},
   "outputs": [],
   "source": [
    "resnet_Adam_model.compile(\n",
    "    loss=\"categorical_crossentropy\", \n",
    "    optimizer=tf.keras.optimizers.Adam(), \n",
    "    metrics=['accuracy']\n",
    ")"
   ]
  },
  {
   "cell_type": "code",
   "execution_count": 58,
   "id": "8af8e193",
   "metadata": {},
   "outputs": [
    {
     "name": "stdout",
     "output_type": "stream",
     "text": [
      "Model: \"sequential_4\"\n",
      "_________________________________________________________________\n",
      " Layer (type)                Output Shape              Param #   \n",
      "=================================================================\n",
      " feature_extraction_layer (K  (None, 2048)             42605504  \n",
      " erasLayer)                                                      \n",
      "                                                                 \n",
      " output_layer (Dense)        (None, 3)                 6147      \n",
      "                                                                 \n",
      "=================================================================\n",
      "Total params: 42,611,651\n",
      "Trainable params: 6,147\n",
      "Non-trainable params: 42,605,504\n",
      "_________________________________________________________________\n"
     ]
    }
   ],
   "source": [
    "resnet_Adam_model.summary()"
   ]
  },
  {
   "cell_type": "code",
   "execution_count": 59,
   "id": "c9c85f80",
   "metadata": {},
   "outputs": [
    {
     "name": "stdout",
     "output_type": "stream",
     "text": [
      "Saving TensorBoard log files to: Lab5.1/resnet(Adam)/20211125-124011\n",
      "Epoch 1/2\n",
      "24/24 [==============================] - 85s 3s/step - loss: 0.7681 - accuracy: 0.6600 - val_loss: 0.3996 - val_accuracy: 0.8444\n",
      "Epoch 2/2\n",
      "24/24 [==============================] - 69s 3s/step - loss: 0.2714 - accuracy: 0.9013 - val_loss: 0.2632 - val_accuracy: 0.8978\n",
      "Час навчання: 155.15  секунд\n"
     ]
    }
   ],
   "source": [
    "tf.random.set_seed(42)\n",
    "\n",
    "resnet_Adam_model.compile(\n",
    "    loss=\"categorical_crossentropy\", \n",
    "    optimizer=tf.keras.optimizers.Adam(), \n",
    "    metrics=['accuracy']\n",
    ")\n",
    "\n",
    "resnet_Adam_model_time = time.time()\n",
    "\n",
    "resnet_Adam_model.fit(train_data, epochs=2, validation_data=test_data, \n",
    "                               callbacks=[create_tensorboard_callback(dir_name=\"Lab5.1\", experiment_name=\"resnet(Adam)\")])\n",
    "\n",
    "time_resnet_Adam = time.time() - resnet_Adam_model_time\n",
    "\n",
    "print(\"Час навчання:\", round(time_resnet_Adam,2), \" секунд\" )"
   ]
  },
  {
   "cell_type": "markdown",
   "id": "e11e7800",
   "metadata": {},
   "source": [
    "## ????????"
   ]
  },
  {
   "cell_type": "code",
   "execution_count": 60,
   "id": "39e778f6",
   "metadata": {},
   "outputs": [],
   "source": [
    "for layer in resnet_Adam_model.layers[-10:]:\n",
    "    layer.trainable=True"
   ]
  },
  {
   "cell_type": "code",
   "execution_count": 61,
   "id": "d7d8e2ee",
   "metadata": {},
   "outputs": [
    {
     "name": "stdout",
     "output_type": "stream",
     "text": [
      "Model: \"sequential_4\"\n",
      "_________________________________________________________________\n",
      " Layer (type)                Output Shape              Param #   \n",
      "=================================================================\n",
      " feature_extraction_layer (K  (None, 2048)             42605504  \n",
      " erasLayer)                                                      \n",
      "                                                                 \n",
      " output_layer (Dense)        (None, 3)                 6147      \n",
      "                                                                 \n",
      "=================================================================\n",
      "Total params: 42,611,651\n",
      "Trainable params: 42,506,307\n",
      "Non-trainable params: 105,344\n",
      "_________________________________________________________________\n"
     ]
    }
   ],
   "source": [
    "resnet_Adam_model.summary()"
   ]
  },
  {
   "cell_type": "markdown",
   "id": "53a8264c",
   "metadata": {},
   "source": [
    "### Прогноз"
   ]
  },
  {
   "cell_type": "code",
   "execution_count": 62,
   "id": "d59f8fa7",
   "metadata": {},
   "outputs": [
    {
     "name": "stdout",
     "output_type": "stream",
     "text": [
      "[[6.57968640e-01 2.38662496e-01 1.03368856e-01]\n",
      " [5.53645520e-03 9.94403124e-01 6.03466178e-05]\n",
      " [4.47833700e-05 4.28073981e-05 9.99912381e-01]\n",
      " [3.36800513e-05 3.96286923e-04 9.99570072e-01]\n",
      " [2.74050146e-01 7.22057819e-01 3.89199937e-03]\n",
      " [1.63572356e-01 8.35705280e-01 7.22336525e-04]\n",
      " [7.60944903e-01 2.33738944e-01 5.31617366e-03]\n",
      " [5.97788894e-04 1.12613593e-03 9.98276114e-01]\n",
      " [3.47530544e-02 9.61422563e-01 3.82436393e-03]\n",
      " [3.65693241e-01 6.33270502e-01 1.03631022e-03]\n",
      " [5.68494179e-05 2.27372293e-04 9.99715745e-01]\n",
      " [9.36381340e-01 6.26479685e-02 9.70722525e-04]\n",
      " [3.97398043e-03 4.49445390e-04 9.95576620e-01]\n",
      " [1.29905744e-02 3.60369533e-02 9.50972438e-01]\n",
      " [3.26228968e-04 6.21130050e-04 9.99052584e-01]\n",
      " [9.78362262e-01 2.04286091e-02 1.20907777e-03]\n",
      " [1.26304151e-03 3.96878022e-04 9.98340011e-01]\n",
      " [2.41834242e-02 9.75667059e-01 1.49469706e-04]\n",
      " [3.29373451e-03 9.96620417e-01 8.57940104e-05]\n",
      " [9.34451073e-03 6.48178440e-03 9.84173775e-01]\n",
      " [1.17103930e-03 1.64600555e-03 9.97182965e-01]\n",
      " [1.81488390e-03 1.12623500e-03 9.97058868e-01]\n",
      " [7.53700919e-03 5.16634099e-02 9.40799654e-01]\n",
      " [8.44659051e-04 2.18509999e-03 9.96970177e-01]\n",
      " [9.64163959e-01 3.11772525e-02 4.65888530e-03]\n",
      " [7.34577298e-01 2.58770019e-01 6.65273657e-03]\n",
      " [2.07598470e-02 9.79076743e-01 1.63391611e-04]\n",
      " [2.78481364e-01 7.04711497e-01 1.68071985e-02]\n",
      " [1.69899641e-03 9.89228371e-04 9.97311831e-01]\n",
      " [2.48445570e-01 7.45754004e-01 5.80039574e-03]\n",
      " [9.74695981e-01 2.29216535e-02 2.38233432e-03]\n",
      " [9.21730607e-05 4.48600244e-04 9.99459207e-01]\n",
      " [7.15831369e-02 9.14929509e-01 1.34873232e-02]\n",
      " [8.62832189e-01 1.19844936e-01 1.73228793e-02]\n",
      " [6.97549200e-03 9.91537452e-01 1.48706150e-03]\n",
      " [6.91757072e-03 9.65660214e-01 2.74223201e-02]\n",
      " [4.61816462e-03 7.02026580e-03 9.88361537e-01]\n",
      " [8.96220580e-02 3.41584444e-01 5.68793476e-01]\n",
      " [3.57323326e-02 6.21796489e-01 3.42471182e-01]\n",
      " [1.85475044e-03 9.98022676e-01 1.22563171e-04]\n",
      " [6.45196855e-01 3.35081875e-01 1.97213292e-02]\n",
      " [2.31554988e-03 9.97013688e-01 6.70865411e-04]\n",
      " [1.02992840e-02 9.61325049e-01 2.83756927e-02]\n",
      " [8.47633719e-01 8.76184255e-02 6.47477955e-02]\n",
      " [8.49247754e-01 7.12225363e-02 7.95297250e-02]\n",
      " [9.26925898e-01 2.70664915e-02 4.60075364e-02]\n",
      " [9.95108392e-03 1.24836212e-03 9.88800526e-01]\n",
      " [1.93411007e-03 9.93290544e-01 4.77538211e-03]\n",
      " [7.58577049e-01 2.32750371e-01 8.67263228e-03]\n",
      " [9.23541546e-01 7.52196237e-02 1.23889733e-03]\n",
      " [9.00951684e-01 5.62320985e-02 4.28161621e-02]\n",
      " [9.48365331e-01 5.02253436e-02 1.40934635e-03]\n",
      " [1.24071608e-03 9.98514950e-01 2.44333409e-04]\n",
      " [9.75778878e-01 2.27696449e-02 1.45142840e-03]\n",
      " [3.70483361e-02 9.52165782e-01 1.07858712e-02]\n",
      " [3.81835247e-03 9.88563299e-01 7.61840632e-03]\n",
      " [5.55687526e-04 2.46864482e-04 9.99197423e-01]\n",
      " [9.99844633e-05 1.31590146e-04 9.99768436e-01]\n",
      " [9.55760539e-01 4.41992581e-02 4.02261030e-05]\n",
      " [1.94751337e-01 8.02435160e-01 2.81357556e-03]\n",
      " [9.82082188e-02 3.91854905e-02 8.62606287e-01]\n",
      " [1.38977274e-01 2.96969682e-01 5.64053059e-01]\n",
      " [2.53610671e-01 4.43596572e-01 3.02792817e-01]\n",
      " [1.45272745e-04 1.55803700e-05 9.99839067e-01]\n",
      " [9.42330733e-02 9.05119240e-01 6.47718494e-04]\n",
      " [1.41846845e-02 9.67361748e-01 1.84535664e-02]\n",
      " [5.40545821e-01 4.39158916e-01 2.02952176e-02]\n",
      " [8.06456029e-01 1.93467736e-01 7.62623094e-05]\n",
      " [2.94224662e-03 2.96917721e-03 9.94088531e-01]\n",
      " [8.32549930e-01 1.55887321e-01 1.15627460e-02]\n",
      " [5.20953655e-01 2.11497396e-01 2.67548949e-01]\n",
      " [1.49842832e-04 4.41399025e-04 9.99408722e-01]\n",
      " [9.58360881e-02 9.02043521e-01 2.12044525e-03]\n",
      " [8.89488637e-01 9.03123021e-02 2.01990958e-02]\n",
      " [1.21344834e-04 1.68029128e-05 9.99861836e-01]\n",
      " [3.93683016e-02 9.47261751e-01 1.33699831e-02]\n",
      " [9.20647562e-01 7.39335567e-02 5.41893207e-03]\n",
      " [9.67022717e-01 3.06128636e-02 2.36430997e-03]\n",
      " [4.82968055e-03 9.93417978e-01 1.75235176e-03]\n",
      " [9.59994562e-04 6.01266802e-04 9.98438776e-01]\n",
      " [1.92706741e-03 2.12944415e-03 9.95943487e-01]\n",
      " [1.30737359e-02 9.85000372e-01 1.92581036e-03]\n",
      " [3.95932409e-04 5.23416849e-04 9.99080658e-01]\n",
      " [8.74210179e-01 1.24179341e-01 1.61053357e-03]\n",
      " [2.40268419e-03 1.55381835e-03 9.96043563e-01]\n",
      " [2.40883115e-03 9.94819224e-01 2.77200434e-03]\n",
      " [3.96258518e-04 8.95813355e-05 9.99514103e-01]\n",
      " [9.31857705e-01 7.13041425e-03 6.10119142e-02]\n",
      " [1.36388189e-04 4.78643866e-04 9.99384999e-01]\n",
      " [2.84526846e-03 9.97005522e-01 1.49110332e-04]\n",
      " [9.95530069e-01 4.20994405e-03 2.60072906e-04]\n",
      " [1.72347680e-01 8.26545596e-01 1.10671273e-03]\n",
      " [9.69511922e-03 9.02203441e-01 8.81015211e-02]\n",
      " [9.88617726e-03 9.89982903e-01 1.30958433e-04]\n",
      " [3.49444244e-03 1.27811097e-02 9.83724475e-01]\n",
      " [6.26151741e-01 3.71586859e-01 2.26148218e-03]\n",
      " [7.35612452e-01 2.64006674e-01 3.80934536e-04]\n",
      " [5.89098502e-03 3.41280960e-02 9.59980905e-01]\n",
      " [9.83036533e-02 8.97796154e-01 3.90016451e-03]\n",
      " [1.17540881e-02 9.60048258e-01 2.81976331e-02]\n",
      " [8.80487338e-02 9.11579311e-01 3.71999136e-04]\n",
      " [6.75762864e-03 9.93176401e-01 6.59940124e-05]\n",
      " [5.32511830e-01 4.66396660e-01 1.09149597e-03]\n",
      " [9.92745340e-01 5.35848876e-03 1.89616985e-03]\n",
      " [8.59557927e-01 1.30398825e-01 1.00432280e-02]\n",
      " [8.60289216e-01 1.22084156e-01 1.76266972e-02]\n",
      " [5.96146345e-01 3.96071881e-01 7.78174913e-03]\n",
      " [9.78242874e-01 1.84656791e-02 3.29135708e-03]\n",
      " [5.97591419e-03 1.40525546e-04 9.93883610e-01]\n",
      " [7.21482635e-01 6.69807196e-02 2.11536616e-01]\n",
      " [6.87676511e-05 3.00376792e-04 9.99630809e-01]\n",
      " [2.10348696e-01 7.70740330e-01 1.89109836e-02]\n",
      " [3.35270107e-01 6.64065897e-01 6.64019957e-04]\n",
      " [6.86565220e-01 2.34431088e-01 7.90037289e-02]\n",
      " [5.78851402e-02 1.32290749e-02 9.28885818e-01]\n",
      " [1.03580474e-04 8.84923575e-05 9.99807894e-01]\n",
      " [9.43924710e-02 7.10576773e-02 8.34549844e-01]\n",
      " [8.90735444e-03 9.90768015e-01 3.24588065e-04]\n",
      " [8.52360204e-03 9.91460919e-01 1.55403850e-05]\n",
      " [1.26632461e-02 9.80899096e-01 6.43755449e-03]\n",
      " [2.04806263e-03 6.83546241e-04 9.97268438e-01]\n",
      " [9.90733970e-04 1.21348142e-03 9.97795820e-01]\n",
      " [1.28987522e-04 4.41713164e-05 9.99826849e-01]\n",
      " [2.44321109e-05 3.91600115e-05 9.99936461e-01]\n",
      " [2.49517843e-01 7.43879974e-01 6.60220953e-03]\n",
      " [2.11304814e-05 2.38836627e-04 9.99740064e-01]\n",
      " [9.55739670e-05 1.85308905e-04 9.99719083e-01]\n",
      " [1.75063953e-01 8.11403453e-01 1.35325501e-02]\n",
      " [3.27049121e-02 9.31055367e-01 3.62397581e-02]\n",
      " [8.82241845e-01 1.17245093e-01 5.13006933e-04]\n",
      " [7.10581020e-02 9.27928686e-01 1.01329654e-03]\n",
      " [2.87498593e-01 7.09622622e-01 2.87877070e-03]\n",
      " [3.92926950e-03 9.95710135e-01 3.60593927e-04]\n",
      " [1.39078780e-04 1.03780178e-04 9.99757111e-01]\n",
      " [1.32171754e-02 9.86546278e-01 2.36517066e-04]\n",
      " [7.24461153e-02 9.26691175e-01 8.62642482e-04]\n",
      " [8.41182888e-01 1.50676623e-01 8.14045314e-03]\n",
      " [4.28909808e-01 5.33812165e-01 3.72780934e-02]\n",
      " [1.47248479e-03 4.13270388e-03 9.94394779e-01]\n",
      " [6.29642189e-01 3.10886502e-01 5.94712496e-02]\n",
      " [6.78967778e-03 9.93096650e-01 1.13666072e-04]\n",
      " [1.88192111e-02 7.97625542e-01 1.83555290e-01]\n",
      " [8.37673008e-01 1.62140593e-01 1.86408186e-04]\n",
      " [5.83291054e-03 2.47162743e-03 9.91695464e-01]\n",
      " [4.72735688e-02 1.35814130e-01 8.16912353e-01]\n",
      " [1.59451840e-04 3.93472699e-04 9.99447048e-01]\n",
      " [3.98286104e-01 6.01472199e-01 2.41672067e-04]\n",
      " [5.05178981e-03 3.80385108e-03 9.91144359e-01]\n",
      " [3.02220287e-05 5.65219852e-05 9.99913216e-01]\n",
      " [3.64285618e-01 6.30073965e-01 5.64044807e-03]\n",
      " [3.45553830e-02 9.64020193e-01 1.42441888e-03]\n",
      " [3.82819176e-01 6.15867615e-01 1.31325889e-03]\n",
      " [8.26487601e-01 1.14875197e-01 5.86372018e-02]\n",
      " [2.76627064e-01 7.01338887e-01 2.20340323e-02]\n",
      " [3.67338012e-04 5.44139075e-05 9.99578297e-01]\n",
      " [9.47601080e-01 7.91984797e-03 4.44791019e-02]\n",
      " [7.07291588e-02 9.26491499e-01 2.77925958e-03]\n",
      " [4.69064862e-01 4.99933958e-01 3.10012139e-02]\n",
      " [9.81001437e-01 1.85634494e-02 4.35139897e-04]\n",
      " [3.54029924e-01 6.38755679e-01 7.21440511e-03]\n",
      " [4.65773250e-04 1.51221873e-03 9.98022079e-01]\n",
      " [9.10818934e-01 2.31312625e-02 6.60498217e-02]\n",
      " [1.16838946e-03 2.02461472e-03 9.96806979e-01]\n",
      " [4.48310660e-04 1.71444158e-03 9.97837245e-01]\n",
      " [3.59965197e-04 2.82865454e-04 9.99357164e-01]\n",
      " [4.72776219e-02 9.48680401e-01 4.04203217e-03]\n",
      " [1.67949609e-02 9.15556490e-01 6.76484331e-02]\n",
      " [2.80666602e-04 8.66194605e-04 9.98853087e-01]\n",
      " [8.50609303e-01 1.04505271e-01 4.48853746e-02]\n",
      " [3.75017320e-04 1.52208493e-04 9.99472797e-01]\n",
      " [5.26610538e-02 9.41108048e-01 6.23084977e-03]\n",
      " [9.47521441e-03 5.33150211e-02 9.37209725e-01]\n",
      " [9.43706393e-01 5.53859845e-02 9.07663896e-04]\n",
      " [6.48011923e-01 3.40131849e-01 1.18562011e-02]\n",
      " [8.97456646e-01 1.01202779e-01 1.34055875e-03]\n",
      " [1.56551331e-01 8.39067221e-01 4.38148202e-03]\n",
      " [8.81745279e-01 7.45339841e-02 4.37206514e-02]\n",
      " [9.94886816e-01 4.77429526e-03 3.38852638e-04]\n",
      " [5.73529178e-05 6.46858898e-05 9.99877930e-01]\n",
      " [2.61761934e-01 7.16238081e-01 2.20000036e-02]\n",
      " [2.79701198e-04 4.91505256e-03 9.94805276e-01]\n",
      " [2.24897615e-03 1.04021654e-02 9.87348914e-01]\n",
      " [1.33935799e-04 5.11684048e-05 9.99814928e-01]\n",
      " [6.45208955e-02 8.92787576e-01 4.26914543e-02]\n",
      " [2.27776309e-03 7.53811933e-03 9.90184128e-01]\n",
      " [9.82099891e-01 1.64823048e-02 1.41774083e-03]\n",
      " [8.58156264e-01 8.39747190e-02 5.78690097e-02]\n",
      " [4.48513497e-03 1.81827303e-02 9.77332175e-01]\n",
      " [4.60694823e-03 9.67988312e-01 2.74047162e-02]\n",
      " [1.40365928e-01 8.05725813e-01 5.39083034e-02]\n",
      " [4.71045263e-03 9.95066404e-01 2.23150666e-04]\n",
      " [9.01157316e-03 9.90309775e-01 6.78698998e-04]\n",
      " [8.28020461e-03 9.87351537e-01 4.36822046e-03]\n",
      " [7.65868127e-01 2.32408181e-01 1.72372675e-03]\n",
      " [2.61127502e-01 7.07449257e-01 3.14232185e-02]\n",
      " [6.67154074e-01 2.26510048e-01 1.06335841e-01]\n",
      " [5.63957512e-01 4.09185618e-01 2.68568136e-02]\n",
      " [5.55614948e-01 2.31809169e-02 4.21204150e-01]\n",
      " [4.38766694e-03 9.94268894e-01 1.34339882e-03]\n",
      " [2.98659026e-04 2.17914290e-04 9.99483347e-01]\n",
      " [1.26209915e-01 8.67709517e-01 6.08051149e-03]\n",
      " [8.16594064e-02 9.18055773e-01 2.84732145e-04]\n",
      " [5.28207600e-01 4.62275118e-01 9.51728877e-03]\n",
      " [7.22223461e-01 2.57667184e-01 2.01093722e-02]\n",
      " [9.44574058e-01 3.42907533e-02 2.11351197e-02]\n",
      " [2.95372540e-03 1.88522171e-02 9.78194058e-01]\n",
      " [7.16347247e-02 9.27755058e-01 6.10316871e-04]\n",
      " [7.29802705e-04 1.81890919e-03 9.97451246e-01]\n",
      " [5.92129305e-03 9.80467021e-01 1.36117218e-02]\n",
      " [1.22816581e-02 9.87029850e-01 6.88435452e-04]\n",
      " [9.71756935e-01 2.73304302e-02 9.12634307e-04]\n",
      " [7.76156783e-01 2.22390234e-01 1.45299605e-03]\n",
      " [3.96829360e-04 2.34934982e-04 9.99368250e-01]\n",
      " [1.25300756e-03 2.94128724e-04 9.98452902e-01]\n",
      " [3.93765695e-05 8.25614334e-05 9.99878049e-01]\n",
      " [3.08826356e-03 2.20650155e-03 9.94705260e-01]\n",
      " [1.61870904e-02 9.79350388e-01 4.46257181e-03]\n",
      " [9.59147394e-01 4.02940959e-02 5.58574568e-04]\n",
      " [9.65206087e-01 1.63420923e-02 1.84518602e-02]\n",
      " [9.64525878e-01 1.50289228e-02 2.04450842e-02]\n",
      " [4.01630193e-01 5.43671489e-01 5.46983257e-02]\n",
      " [1.92872933e-04 6.72526294e-05 9.99739826e-01]\n",
      " [3.72251170e-03 1.70467943e-02 9.79230702e-01]\n",
      " [2.86661927e-02 9.70121443e-01 1.21227535e-03]\n",
      " [9.60792482e-01 3.86832207e-02 5.24380535e-04]]\n"
     ]
    }
   ],
   "source": [
    "# ймовірності\n",
    "y_hat = resnet_Adam_model.predict(test_data)\n",
    "print(y_hat)"
   ]
  },
  {
   "cell_type": "code",
   "execution_count": 63,
   "id": "2533b88b",
   "metadata": {},
   "outputs": [
    {
     "name": "stdout",
     "output_type": "stream",
     "text": [
      "[0 1 2 2 1 1 0 2 1 1 2 0 2 2 2 0 2 1 1 2 2 2 2 2 0 0 1 1 2 1 0 2 1 0 1 1 2\n",
      " 2 1 1 0 1 1 0 0 0 2 1 0 0 0 0 1 0 1 1 2 2 0 1 2 2 1 2 1 1 0 0 2 0 0 2 1 0\n",
      " 2 1 0 0 1 2 2 1 2 0 2 1 2 0 2 1 0 1 1 1 2 0 0 2 1 1 1 1 0 0 0 0 0 0 2 0 2\n",
      " 1 1 0 2 2 2 1 1 1 2 2 2 2 1 2 2 1 1 0 1 1 1 2 1 1 0 1 2 0 1 1 0 2 2 2 1 2\n",
      " 2 1 1 1 0 1 2 0 1 1 0 1 2 0 2 2 2 1 1 2 0 2 1 2 0 0 0 1 0 0 2 1 2 2 2 1 2\n",
      " 0 0 2 1 1 1 1 1 0 1 0 0 0 1 2 1 1 0 0 0 2 1 2 1 1 0 0 2 2 2 2 1 0 0 0 1 2\n",
      " 2 1 0]\n"
     ]
    }
   ],
   "source": [
    "y_hat = y_hat.argmax(axis=1)\n",
    "print(y_hat)"
   ]
  },
  {
   "cell_type": "code",
   "execution_count": 64,
   "id": "5d6c5fcc",
   "metadata": {},
   "outputs": [
    {
     "name": "stdout",
     "output_type": "stream",
     "text": [
      "[2, 2, 0, 1, 2, 0, 1, 2, 0, 0, 0, 0, 1, 1, 1, 0, 2, 2, 1, 0, 0, 0, 2, 0, 0, 1, 2, 0, 1, 0, 1, 2, 1, 1, 0, 1, 2, 2, 1, 0, 1, 2, 1, 1, 0, 0, 1, 2, 1, 1, 2, 0, 2, 0, 1, 2, 1, 0, 0, 0, 1, 2, 1, 0, 2, 0, 2, 0, 2, 1, 0, 2, 0, 0, 2, 2, 1, 1, 2, 1, 0, 0, 1, 0, 0, 1, 1, 0, 2, 2, 2, 0, 1, 1, 1, 1, 0, 2, 1, 0, 0, 1, 2, 2, 2, 2, 2, 2, 2, 1, 2, 1, 0, 1, 0, 2, 0, 2, 0, 2, 2, 1, 2, 1, 2, 1, 2, 1, 1, 2, 2, 0, 2, 2, 0, 1, 2, 0, 1, 1, 2, 1, 2, 1, 1, 0, 1, 2, 1, 2, 1, 2, 0, 0, 0, 1, 0, 1, 2, 1, 0, 0, 1, 1, 0, 1, 2, 0, 0, 0, 2, 1, 1, 2, 2, 2, 2, 2, 2, 1, 0, 2, 0, 2, 1, 1, 2, 0, 0, 0, 0, 0, 0, 2, 0, 1, 2, 0, 0, 2, 0, 1, 1, 0, 2, 1, 0, 1, 2, 0, 0, 2, 2, 1, 1, 0, 1, 0, 2, 1, 1, 0, 2, 1, 2]\n"
     ]
    }
   ],
   "source": [
    "print(true_y)"
   ]
  },
  {
   "cell_type": "markdown",
   "id": "d8036e53",
   "metadata": {},
   "source": [
    "## ??????????????"
   ]
  },
  {
   "cell_type": "code",
   "execution_count": 65,
   "id": "0e952e10",
   "metadata": {},
   "outputs": [
    {
     "name": "stdout",
     "output_type": "stream",
     "text": [
      "Confusion matrix:\n",
      "                apple_pie  deviled_eggs  lobster_bisque\n",
      "apple_pie              27            23              25\n",
      "deviled_eggs           21            31              23\n",
      "lobster_bisque         19            29              27\n"
     ]
    }
   ],
   "source": [
    "forecast_and_conf_matrix(resnet_Adam_model,true_y)"
   ]
  },
  {
   "cell_type": "markdown",
   "id": "21d1b927",
   "metadata": {},
   "source": [
    "## 2.2 SGD optimizer"
   ]
  },
  {
   "cell_type": "code",
   "execution_count": 66,
   "id": "2a08e338",
   "metadata": {},
   "outputs": [],
   "source": [
    "resnet_SGD_model = create_BC_model(resnet_url)"
   ]
  },
  {
   "cell_type": "code",
   "execution_count": 67,
   "id": "575d076f",
   "metadata": {},
   "outputs": [
    {
     "name": "stdout",
     "output_type": "stream",
     "text": [
      "Saving TensorBoard log files to: Lab5.1/resnet(SGD)/20211125-124457\n",
      "Epoch 1/2\n",
      "24/24 [==============================] - 88s 3s/step - loss: 0.6228 - accuracy: 0.7387 - val_loss: 0.2763 - val_accuracy: 0.8800\n",
      "Epoch 2/2\n",
      "24/24 [==============================] - 70s 3s/step - loss: 0.2315 - accuracy: 0.9227 - val_loss: 0.2478 - val_accuracy: 0.9156\n",
      "Час навчання: 158.65  секунд\n"
     ]
    }
   ],
   "source": [
    "tf.random.set_seed(42)\n",
    "\n",
    "resnet_SGD_model.compile(\n",
    "    loss=\"categorical_crossentropy\", \n",
    "    optimizer=tf.keras.optimizers.SGD(), \n",
    "    metrics=['accuracy']\n",
    ")\n",
    "\n",
    "resnet_SGD_model_time = time.time()\n",
    "\n",
    "resnet_SGD_model.fit(train_data, epochs=2, validation_data=test_data, \n",
    "                               callbacks=[create_tensorboard_callback(dir_name=\"Lab5.1\", experiment_name=\"resnet(SGD)\")])\n",
    "\n",
    "time_resnet_SGD = time.time() - resnet_SGD_model_time\n",
    "\n",
    "print(\"Час навчання:\", round(time_resnet_SGD,2), \" секунд\" )"
   ]
  },
  {
   "cell_type": "markdown",
   "id": "5fefd5bc",
   "metadata": {},
   "source": [
    "## ????"
   ]
  },
  {
   "cell_type": "code",
   "execution_count": 68,
   "id": "3d8f9b0a",
   "metadata": {},
   "outputs": [
    {
     "name": "stdout",
     "output_type": "stream",
     "text": [
      "Confusion matrix:\n",
      "                apple_pie  deviled_eggs  lobster_bisque\n",
      "apple_pie              26            22              27\n",
      "deviled_eggs           29            24              22\n",
      "lobster_bisque         32            18              25\n"
     ]
    }
   ],
   "source": [
    "forecast_and_conf_matrix(resnet_SGD_model,true_y)"
   ]
  },
  {
   "cell_type": "markdown",
   "id": "b9bdb242",
   "metadata": {},
   "source": [
    "## 2.3 Fine-tuned model"
   ]
  },
  {
   "cell_type": "markdown",
   "id": "d4a687b2",
   "metadata": {},
   "source": [
    "Скачаємо модель ResNet101, зробимо останні 10 шарів тренувальними та замінимо вихідний шар на той, який відповідає задачі."
   ]
  },
  {
   "cell_type": "code",
   "execution_count": 69,
   "id": "7f563f47",
   "metadata": {},
   "outputs": [],
   "source": [
    "resnet_ft=tf.keras.applications.ResNet101(include_top=False)\n",
    "resnet_ft.trainable=False\n",
    "inputs = tf.keras.layers.Input(shape=(224,224,3),name=\"input_layer\")\n",
    "\n",
    "\n",
    "x=resnet_ft(inputs)\n",
    "x=tf.keras.layers.GlobalAveragePooling2D(name=\"gap_layer\")(x)\n",
    "outputs= tf.keras.layers.Dense(3,activation=\"softmax\",name=\"output_layer\")(x)\n",
    "\n",
    "\n",
    "model_resnet_ft=tf.keras.Model(inputs,outputs)\n"
   ]
  },
  {
   "cell_type": "code",
   "execution_count": 70,
   "id": "bcf5c53e",
   "metadata": {},
   "outputs": [],
   "source": [
    "model_resnet_ft.compile(\n",
    "    loss='categorical_crossentropy', \n",
    "    optimizer=tf.keras.optimizers.Adam(), \n",
    "    metrics=['accuracy']\n",
    ")"
   ]
  },
  {
   "cell_type": "code",
   "execution_count": 71,
   "id": "fcb7e7b8",
   "metadata": {},
   "outputs": [
    {
     "name": "stdout",
     "output_type": "stream",
     "text": [
      "Epoch 1/2\n",
      "24/24 [==============================] - 99s 4s/step - loss: 1.1483 - accuracy: 0.3080 - val_loss: 1.1267 - val_accuracy: 0.3289\n",
      "Epoch 2/2\n",
      "24/24 [==============================] - 90s 4s/step - loss: 1.1137 - accuracy: 0.3293 - val_loss: 1.1108 - val_accuracy: 0.3467\n"
     ]
    }
   ],
   "source": [
    "history_resnet_ft =  model_resnet_ft.fit(train_data, \n",
    "                                        epochs=2, \n",
    "                                        # steps_per_epoch=len(train_data), \n",
    "                                        validation_data=test_data, \n",
    "                                        # validation_steps=len(test_data)\n",
    "                                        )"
   ]
  },
  {
   "cell_type": "markdown",
   "id": "f47debd0",
   "metadata": {},
   "source": [
    "# Чомусь погана точність"
   ]
  },
  {
   "cell_type": "code",
   "execution_count": 72,
   "id": "c1bb5721",
   "metadata": {},
   "outputs": [
    {
     "name": "stdout",
     "output_type": "stream",
     "text": [
      "Model: \"model\"\n",
      "_________________________________________________________________\n",
      " Layer (type)                Output Shape              Param #   \n",
      "=================================================================\n",
      " input_layer (InputLayer)    [(None, 224, 224, 3)]     0         \n",
      "                                                                 \n",
      " resnet101 (Functional)      (None, None, None, 2048)  42658176  \n",
      "                                                                 \n",
      " gap_layer (GlobalAveragePoo  (None, 2048)             0         \n",
      " ling2D)                                                         \n",
      "                                                                 \n",
      " output_layer (Dense)        (None, 3)                 6147      \n",
      "                                                                 \n",
      "=================================================================\n",
      "Total params: 42,664,323\n",
      "Trainable params: 6,147\n",
      "Non-trainable params: 42,658,176\n",
      "_________________________________________________________________\n"
     ]
    }
   ],
   "source": [
    "model_resnet_ft.summary()"
   ]
  },
  {
   "cell_type": "code",
   "execution_count": 73,
   "id": "7844ec6c",
   "metadata": {},
   "outputs": [],
   "source": [
    "for layer in resnet_ft.layers[-10:]:\n",
    "    layer.trainable=True"
   ]
  },
  {
   "cell_type": "code",
   "execution_count": 74,
   "id": "fabc8940",
   "metadata": {},
   "outputs": [],
   "source": [
    "model_resnet_ft.compile(\n",
    "    loss='categorical_crossentropy', \n",
    "    optimizer=tf.keras.optimizers.Adam(), \n",
    "    metrics=['accuracy']\n",
    ")"
   ]
  },
  {
   "cell_type": "markdown",
   "id": "f48fa19c",
   "metadata": {},
   "source": [
    "### ??? Число тренувальних параметрів не змінилось"
   ]
  },
  {
   "cell_type": "code",
   "execution_count": 75,
   "id": "93719d97",
   "metadata": {},
   "outputs": [
    {
     "name": "stdout",
     "output_type": "stream",
     "text": [
      "Model: \"model\"\n",
      "_________________________________________________________________\n",
      " Layer (type)                Output Shape              Param #   \n",
      "=================================================================\n",
      " input_layer (InputLayer)    [(None, 224, 224, 3)]     0         \n",
      "                                                                 \n",
      " resnet101 (Functional)      (None, None, None, 2048)  42658176  \n",
      "                                                                 \n",
      " gap_layer (GlobalAveragePoo  (None, 2048)             0         \n",
      " ling2D)                                                         \n",
      "                                                                 \n",
      " output_layer (Dense)        (None, 3)                 6147      \n",
      "                                                                 \n",
      "=================================================================\n",
      "Total params: 42,664,323\n",
      "Trainable params: 6,147\n",
      "Non-trainable params: 42,658,176\n",
      "_________________________________________________________________\n"
     ]
    }
   ],
   "source": [
    "model_resnet_ft.summary()"
   ]
  },
  {
   "cell_type": "markdown",
   "id": "995cae5a",
   "metadata": {},
   "source": [
    "# 3. Efficientnet model"
   ]
  },
  {
   "cell_type": "markdown",
   "id": "8e04e410",
   "metadata": {},
   "source": [
    "## 3.1 Adam optimizer"
   ]
  },
  {
   "cell_type": "code",
   "execution_count": 81,
   "id": "d266a829",
   "metadata": {},
   "outputs": [],
   "source": [
    "efficientnet_url=\"https://tfhub.dev/tensorflow/efficientnet/b0/feature-vector/1\""
   ]
  },
  {
   "cell_type": "code",
   "execution_count": 82,
   "id": "7f03f2f8",
   "metadata": {},
   "outputs": [],
   "source": [
    "efficientnet_Adam_model = create_BC_model(efficientnet_url)"
   ]
  },
  {
   "cell_type": "code",
   "execution_count": 83,
   "id": "9a102348",
   "metadata": {},
   "outputs": [],
   "source": [
    "efficientnet_Adam_model.compile()"
   ]
  },
  {
   "cell_type": "code",
   "execution_count": 84,
   "id": "1c6ed13e",
   "metadata": {},
   "outputs": [
    {
     "name": "stdout",
     "output_type": "stream",
     "text": [
      "Model: \"sequential_7\"\n",
      "_________________________________________________________________\n",
      " Layer (type)                Output Shape              Param #   \n",
      "=================================================================\n",
      " feature_extraction_layer (K  (None, 1280)             4049564   \n",
      " erasLayer)                                                      \n",
      "                                                                 \n",
      " output_layer (Dense)        (None, 3)                 3843      \n",
      "                                                                 \n",
      "=================================================================\n",
      "Total params: 4,053,407\n",
      "Trainable params: 3,843\n",
      "Non-trainable params: 4,049,564\n",
      "_________________________________________________________________\n"
     ]
    }
   ],
   "source": [
    "efficientnet_Adam_model.summary()"
   ]
  },
  {
   "cell_type": "code",
   "execution_count": 85,
   "id": "9b5b9696",
   "metadata": {},
   "outputs": [
    {
     "name": "stdout",
     "output_type": "stream",
     "text": [
      "Saving TensorBoard log files to: Lab5.1/efficientnet(Adam)/20211125-125758\n",
      "Epoch 1/2\n",
      "24/24 [==============================] - 53s 1s/step - loss: 0.6583 - accuracy: 0.7893 - val_loss: 0.3903 - val_accuracy: 0.9200\n",
      "Epoch 2/2\n",
      "24/24 [==============================] - 30s 1s/step - loss: 0.2825 - accuracy: 0.9413 - val_loss: 0.2630 - val_accuracy: 0.9422\n",
      "Час навчання: 82.94  секунд\n"
     ]
    }
   ],
   "source": [
    "tf.random.set_seed(42)\n",
    "\n",
    "efficientnet_Adam_model.compile(\n",
    "    loss=\"categorical_crossentropy\", \n",
    "    optimizer=tf.keras.optimizers.Adam(), \n",
    "    metrics=['accuracy']\n",
    ")\n",
    "\n",
    "efficientnet_Adam_model_time = time.time()\n",
    "\n",
    "efficientnet_Adam_model.fit(train_data, epochs=2, validation_data=test_data, \n",
    "                               callbacks=[create_tensorboard_callback(dir_name=\"Lab5.1\", experiment_name=\"efficientnet(Adam)\")])\n",
    "\n",
    "time_efficientnet_Adam = time.time() - efficientnet_Adam_model_time\n",
    "\n",
    "print(\"Час навчання:\", round(time_efficientnet_Adam,2), \" секунд\" )"
   ]
  },
  {
   "cell_type": "code",
   "execution_count": 86,
   "id": "a40f21df",
   "metadata": {},
   "outputs": [],
   "source": [
    "test_data.reset()"
   ]
  },
  {
   "cell_type": "code",
   "execution_count": 90,
   "id": "3f1ac3d9",
   "metadata": {},
   "outputs": [
    {
     "name": "stdout",
     "output_type": "stream",
     "text": [
      "[1 2 2 0 1 1 1 0 1 2 0 2 2 1 2 1 0 0 0 2 1 2 2 2 1 1 1 1 1 2 2 0 0 0 2 1 0\n",
      " 0 0 0 2 1 0 1 2 2 1 1 1 0 2 1 2 1 0 0 1 2 0 0 1 2 2 1 0 2 1 2 2 1 2 1 1 0\n",
      " 2 0 2 2 2 0 0 1 2 1 0 0 1 2 0 0 0 1 1 0 2 2 1 1 0 2 0 1 2 0 1 0 1 2 2 1 0\n",
      " 0 0 0 1 1 2 2 2 0 0 0 1 1 2 2 2 0 0 0 0 2 2 2 2 0 1 0 1 0 2 1 2 0 1 2 1 1\n",
      " 2 0 0 0 1 2 0 0 0 0 2 0 0 0 0 2 2 2 1 2 2 1 2 0 0 1 1 1 0 1 2 0 1 2 1 1 2\n",
      " 2 2 0 1 0 2 2 1 2 0 0 1 2 2 2 1 2 0 1 0 0 1 2 0 0 1 0 1 0 1 2 0 2 1 0 0 1\n",
      " 0 1 1]\n"
     ]
    }
   ],
   "source": [
    "y_hat = efficientnet_Adam_model.predict(test_data)\n",
    "y_hat = y_hat.argmax(axis = 1)\n",
    "print(y_hat)"
   ]
  },
  {
   "cell_type": "code",
   "execution_count": 91,
   "id": "d978a9a7",
   "metadata": {},
   "outputs": [
    {
     "name": "stdout",
     "output_type": "stream",
     "text": [
      "[2, 2, 0, 1, 2, 0, 1, 2, 0, 0, 0, 0, 1, 1, 1, 0, 2, 2, 1, 0, 0, 0, 2, 0, 0, 1, 2, 0, 1, 0, 1, 2, 1, 1, 0, 1, 2, 2, 1, 0, 1, 2, 1, 1, 0, 0, 1, 2, 1, 1, 2, 0, 2, 0, 1, 2, 1, 0, 0, 0, 1, 2, 1, 0, 2, 0, 2, 0, 2, 1, 0, 2, 0, 0, 2, 2, 1, 1, 2, 1, 0, 0, 1, 0, 0, 1, 1, 0, 2, 2, 2, 0, 1, 1, 1, 1, 0, 2, 1, 0, 0, 1, 2, 2, 2, 2, 2, 2, 2, 1, 2, 1, 0, 1, 0, 2, 0, 2, 0, 2, 2, 1, 2, 1, 2, 1, 2, 1, 1, 2, 2, 0, 2, 2, 0, 1, 2, 0, 1, 1, 2, 1, 2, 1, 1, 0, 1, 2, 1, 2, 1, 2, 0, 0, 0, 1, 0, 1, 2, 1, 0, 0, 1, 1, 0, 1, 2, 0, 0, 0, 2, 1, 1, 2, 2, 2, 2, 2, 2, 1, 0, 2, 0, 2, 1, 1, 2, 0, 0, 0, 0, 0, 0, 2, 0, 1, 2, 0, 0, 2, 0, 1, 1, 0, 2, 1, 0, 1, 2, 0, 0, 2, 2, 1, 1, 0, 1, 0, 2, 1, 1, 0, 2, 1, 2]\n"
     ]
    }
   ],
   "source": [
    "print(true_y)"
   ]
  },
  {
   "cell_type": "code",
   "execution_count": 93,
   "id": "50dd7408",
   "metadata": {},
   "outputs": [
    {
     "name": "stdout",
     "output_type": "stream",
     "text": [
      "Confusion matrix:\n",
      "                apple_pie  deviled_eggs  lobster_bisque\n",
      "apple_pie              34            20              21\n",
      "deviled_eggs           20            29              26\n",
      "lobster_bisque         25            23              27\n"
     ]
    }
   ],
   "source": [
    "forecast_and_conf_matrix(efficientnet_Adam_model,true_y)"
   ]
  },
  {
   "cell_type": "code",
   "execution_count": 94,
   "id": "82c2d532",
   "metadata": {},
   "outputs": [
    {
     "name": "stdout",
     "output_type": "stream",
     "text": [
      "8/8 [==============================] - 7s 806ms/step - loss: 0.2630 - accuracy: 0.9422\n"
     ]
    },
    {
     "data": {
      "text/plain": [
       "[0.2629548907279968, 0.9422222375869751]"
      ]
     },
     "execution_count": 94,
     "metadata": {},
     "output_type": "execute_result"
    }
   ],
   "source": [
    "efficientnet_Adam_model.evaluate(test_data)"
   ]
  },
  {
   "cell_type": "code",
   "execution_count": 95,
   "id": "c3dc964c",
   "metadata": {},
   "outputs": [],
   "source": [
    "for layer in efficientnet_Adam_model.layers[-10:]:\n",
    "    layer.trainable=True"
   ]
  },
  {
   "cell_type": "code",
   "execution_count": 96,
   "id": "41a1ca92",
   "metadata": {},
   "outputs": [],
   "source": [
    "efficientnet_Adam_model.compile(\n",
    "    loss=\"categorical_crossentropy\", \n",
    "    optimizer=tf.keras.optimizers.Adam(), \n",
    "    metrics=['accuracy']\n",
    ")"
   ]
  },
  {
   "cell_type": "markdown",
   "id": "77cabf4e",
   "metadata": {},
   "source": [
    "## ??????"
   ]
  },
  {
   "cell_type": "code",
   "execution_count": 97,
   "id": "82e9382f",
   "metadata": {},
   "outputs": [
    {
     "name": "stdout",
     "output_type": "stream",
     "text": [
      "Model: \"sequential_7\"\n",
      "_________________________________________________________________\n",
      " Layer (type)                Output Shape              Param #   \n",
      "=================================================================\n",
      " feature_extraction_layer (K  (None, 1280)             4049564   \n",
      " erasLayer)                                                      \n",
      "                                                                 \n",
      " output_layer (Dense)        (None, 3)                 3843      \n",
      "                                                                 \n",
      "=================================================================\n",
      "Total params: 4,053,407\n",
      "Trainable params: 4,011,391\n",
      "Non-trainable params: 42,016\n",
      "_________________________________________________________________\n"
     ]
    }
   ],
   "source": [
    "efficientnet_Adam_model.summary()"
   ]
  },
  {
   "cell_type": "markdown",
   "id": "60ed12ad",
   "metadata": {},
   "source": [
    "## 3.2 SGD"
   ]
  },
  {
   "cell_type": "code",
   "execution_count": 98,
   "id": "7a92fecd",
   "metadata": {},
   "outputs": [],
   "source": [
    "efficientnet_SGD_model = create_BC_model(efficientnet_url)"
   ]
  },
  {
   "cell_type": "code",
   "execution_count": 99,
   "id": "29c571ac",
   "metadata": {},
   "outputs": [
    {
     "name": "stdout",
     "output_type": "stream",
     "text": [
      "Saving TensorBoard log files to: Lab5.1/efficientnet(SGD)/20211125-130434\n",
      "Epoch 1/2\n",
      "24/24 [==============================] - 55s 1s/step - loss: 0.7955 - accuracy: 0.7147 - val_loss: 0.5828 - val_accuracy: 0.8489\n",
      "Epoch 2/2\n",
      "24/24 [==============================] - 30s 1s/step - loss: 0.4892 - accuracy: 0.8867 - val_loss: 0.4384 - val_accuracy: 0.8889\n",
      "Час навчання: 85.96  секунд\n"
     ]
    }
   ],
   "source": [
    "tf.random.set_seed(42)\n",
    "\n",
    "efficientnet_SGD_model.compile(\n",
    "    loss=\"categorical_crossentropy\", \n",
    "    optimizer=tf.keras.optimizers.SGD(), \n",
    "    metrics=['accuracy']\n",
    ")\n",
    "\n",
    "efficientnet_SGD_model_time = time.time()\n",
    "\n",
    "efficientnet_SGD_model.fit(train_data, epochs=2, validation_data=test_data, \n",
    "                               callbacks=[create_tensorboard_callback(dir_name=\"Lab5.1\", experiment_name=\"efficientnet(SGD)\")])\n",
    "\n",
    "time_efficientnet_SGD = time.time() - efficientnet_SGD_model_time\n",
    "\n",
    "print(\"Час навчання:\", round(time_efficientnet_SGD,2), \" секунд\" )"
   ]
  },
  {
   "cell_type": "markdown",
   "id": "7f0e3b17",
   "metadata": {},
   "source": [
    "## ????"
   ]
  },
  {
   "cell_type": "code",
   "execution_count": 100,
   "id": "42b27962",
   "metadata": {},
   "outputs": [
    {
     "name": "stdout",
     "output_type": "stream",
     "text": [
      "Confusion matrix:\n",
      "                apple_pie  deviled_eggs  lobster_bisque\n",
      "apple_pie              21            29              25\n",
      "deviled_eggs           27            18              30\n",
      "lobster_bisque         24            29              22\n"
     ]
    }
   ],
   "source": [
    "forecast_and_conf_matrix(efficientnet_SGD_model,true_y)"
   ]
  },
  {
   "cell_type": "code",
   "execution_count": 104,
   "id": "ae8cbf60",
   "metadata": {},
   "outputs": [
    {
     "data": {
      "text/html": [
       "\n",
       "      <iframe id=\"tensorboard-frame-c92a7413fcf987dd\" width=\"100%\" height=\"800\" frameborder=\"0\">\n",
       "      </iframe>\n",
       "      <script>\n",
       "        (function() {\n",
       "          const frame = document.getElementById(\"tensorboard-frame-c92a7413fcf987dd\");\n",
       "          const url = new URL(\"/\", window.location);\n",
       "          const port = 6006;\n",
       "          if (port) {\n",
       "            url.port = port;\n",
       "          }\n",
       "          frame.src = url;\n",
       "        })();\n",
       "      </script>\n",
       "    "
      ],
      "text/plain": [
       "<IPython.core.display.HTML object>"
      ]
     },
     "metadata": {},
     "output_type": "display_data"
    }
   ],
   "source": [
    "%load_ext tensorboard\n",
    "%tensorboard --logdir=Lab5.1"
   ]
  },
  {
   "cell_type": "code",
   "execution_count": null,
   "id": "8c30d7ed",
   "metadata": {},
   "outputs": [],
   "source": []
  }
 ],
 "metadata": {
  "kernelspec": {
   "display_name": "Python 3 (ipykernel)",
   "language": "python",
   "name": "python3"
  },
  "language_info": {
   "codemirror_mode": {
    "name": "ipython",
    "version": 3
   },
   "file_extension": ".py",
   "mimetype": "text/x-python",
   "name": "python",
   "nbconvert_exporter": "python",
   "pygments_lexer": "ipython3",
   "version": "3.9.7"
  }
 },
 "nbformat": 4,
 "nbformat_minor": 5
}
