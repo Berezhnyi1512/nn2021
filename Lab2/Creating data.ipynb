{
 "cells": [
  {
   "cell_type": "markdown",
   "id": "d7c9bba4",
   "metadata": {},
   "source": [
    "## Лабораторна робота №2\n",
    "  з дисципліни \"Нейронні мережі\"\n",
    "  \n",
    "  студента групи АнД-41\n",
    "  \n",
    "  Бережного Дмитра"
   ]
  },
  {
   "cell_type": "markdown",
   "id": "017909ef",
   "metadata": {},
   "source": [
    "## Завдання:\n",
    "1. Поглиблено вивчити функцію make_regression.\n",
    "2. Згенерувати набір даних за допомогою означеної функції, з використанням якнайбільшої кількості параметрів. 3. Розмірність набору даних прийняти у вигляді (100000х(30-n)), де n - номер за списком.\n",
    "4. Здійснити моделювання згенерованого набору даних та візуалізацію результатів.\n",
    "5. Результати оформити у вигляді файлів:\n",
    "\n",
    "   а) набір даних у форматі .csv;\n",
    "   \n",
    "   б) код для формування набору даних у форматі .ipynb;\n",
    "   \n",
    "   в) код для моделювання та візуалізації у форматі .ipynb.\n",
    "\n",
    "   Результати викласти у репозиторії GitHub (папка Lab2).\n",
    "   Підготуватися до захисту лабораторрної роботи (пояснення коду, відповіді на запитання за темою)"
   ]
  },
  {
   "cell_type": "code",
   "execution_count": 11,
   "id": "b2e0a220",
   "metadata": {},
   "outputs": [],
   "source": [
    "from sklearn.datasets import make_regression\n",
    "import pandas as pd"
   ]
  },
  {
   "cell_type": "markdown",
   "id": "d6171d45",
   "metadata": {},
   "source": [
    "### Створимо набір даних и виведемо перші 5 рядків X"
   ]
  },
  {
   "cell_type": "code",
   "execution_count": 12,
   "id": "e138ddd3",
   "metadata": {},
   "outputs": [
    {
     "data": {
      "text/plain": [
       "array([[-1.0856306 ,  0.99734545,  0.2829785 , -1.50629471, -0.57860025],\n",
       "       [ 1.65143654, -2.42667924, -0.42891263,  1.26593626, -0.8667404 ],\n",
       "       [-0.67888615, -0.09470897,  1.49138963, -0.638902  , -0.44398196],\n",
       "       [-0.43435128,  2.20593008,  2.18678609,  1.0040539 ,  0.3861864 ],\n",
       "       [ 0.73736858,  1.49073203, -0.93583387,  1.17582904, -1.25388067]])"
      ]
     },
     "execution_count": 12,
     "metadata": {},
     "output_type": "execute_result"
    }
   ],
   "source": [
    "X,Y,coef = make_regression(n_samples = 1500000 #кільість зразків(рядків)  \n",
    "                           ,n_features = 5 #кільість характеристик(колонок)\n",
    "                           ,n_informative = 5, #кільість інформативних характеристик \n",
    "                           n_targets = 1, # кількість функцій \n",
    "                           random_state = 123, #задання рандомного стану\n",
    "                           bias = 0.0001,#зміщення моделі\n",
    "                           effective_rank = None, #кількість сингулярних векторів, \n",
    "                    #необхідних для пояснення більшості вхідних даних лінійними комбінаціями(сприяє кореляції)\n",
    "                           tail_strength = 0.0,#відносна важливість жирного шумового хвоста профілю сингулярних значень\n",
    "                           noise = 0.0001, #степінь шуму\n",
    "                           shuffle = False, #якщо так - то перемішуються зракзи та функції\n",
    "                           coef = True) # якщо так, то повернуться коефіціенти регресійної моделі)\n",
    "X[:5]"
   ]
  },
  {
   "cell_type": "markdown",
   "id": "c5446f9e",
   "metadata": {},
   "source": [
    "### Коефіціенти регресії"
   ]
  },
  {
   "cell_type": "code",
   "execution_count": 13,
   "id": "03738f3c",
   "metadata": {},
   "outputs": [
    {
     "data": {
      "text/plain": [
       "array([ 4.62606431, 37.79231528, 30.87459737, 70.23501967, 36.31377017])"
      ]
     },
     "execution_count": 13,
     "metadata": {},
     "output_type": "execute_result"
    }
   ],
   "source": [
    "coef"
   ]
  },
  {
   "cell_type": "markdown",
   "id": "9848faad",
   "metadata": {},
   "source": [
    "### Виведемо перші 5 Y"
   ]
  },
  {
   "cell_type": "code",
   "execution_count": 14,
   "id": "97e74a9e",
   "metadata": {},
   "outputs": [
    {
     "data": {
      "text/plain": [
       "array([-85.39888437, -39.87422554, -21.66937508, 233.41768257,\n",
       "        67.90727773])"
      ]
     },
     "execution_count": 14,
     "metadata": {},
     "output_type": "execute_result"
    }
   ],
   "source": [
    "Y[:5]"
   ]
  },
  {
   "cell_type": "markdown",
   "id": "0af8ddec",
   "metadata": {},
   "source": [
    "### Створимо датафрейм, де будуть знаходитися X та Y (останньою колонкою) і збережемо його у файл"
   ]
  },
  {
   "cell_type": "code",
   "execution_count": 15,
   "id": "73e2c448",
   "metadata": {},
   "outputs": [
    {
     "data": {
      "text/html": [
       "<div>\n",
       "<style scoped>\n",
       "    .dataframe tbody tr th:only-of-type {\n",
       "        vertical-align: middle;\n",
       "    }\n",
       "\n",
       "    .dataframe tbody tr th {\n",
       "        vertical-align: top;\n",
       "    }\n",
       "\n",
       "    .dataframe thead th {\n",
       "        text-align: right;\n",
       "    }\n",
       "</style>\n",
       "<table border=\"1\" class=\"dataframe\">\n",
       "  <thead>\n",
       "    <tr style=\"text-align: right;\">\n",
       "      <th></th>\n",
       "      <th>0</th>\n",
       "      <th>1</th>\n",
       "      <th>2</th>\n",
       "      <th>3</th>\n",
       "      <th>4</th>\n",
       "      <th>0</th>\n",
       "    </tr>\n",
       "  </thead>\n",
       "  <tbody>\n",
       "    <tr>\n",
       "      <th>0</th>\n",
       "      <td>-1.085631</td>\n",
       "      <td>0.997345</td>\n",
       "      <td>0.282978</td>\n",
       "      <td>-1.506295</td>\n",
       "      <td>-0.578600</td>\n",
       "      <td>-85.398884</td>\n",
       "    </tr>\n",
       "    <tr>\n",
       "      <th>1</th>\n",
       "      <td>1.651437</td>\n",
       "      <td>-2.426679</td>\n",
       "      <td>-0.428913</td>\n",
       "      <td>1.265936</td>\n",
       "      <td>-0.866740</td>\n",
       "      <td>-39.874226</td>\n",
       "    </tr>\n",
       "    <tr>\n",
       "      <th>2</th>\n",
       "      <td>-0.678886</td>\n",
       "      <td>-0.094709</td>\n",
       "      <td>1.491390</td>\n",
       "      <td>-0.638902</td>\n",
       "      <td>-0.443982</td>\n",
       "      <td>-21.669375</td>\n",
       "    </tr>\n",
       "    <tr>\n",
       "      <th>3</th>\n",
       "      <td>-0.434351</td>\n",
       "      <td>2.205930</td>\n",
       "      <td>2.186786</td>\n",
       "      <td>1.004054</td>\n",
       "      <td>0.386186</td>\n",
       "      <td>233.417683</td>\n",
       "    </tr>\n",
       "    <tr>\n",
       "      <th>4</th>\n",
       "      <td>0.737369</td>\n",
       "      <td>1.490732</td>\n",
       "      <td>-0.935834</td>\n",
       "      <td>1.175829</td>\n",
       "      <td>-1.253881</td>\n",
       "      <td>67.907278</td>\n",
       "    </tr>\n",
       "    <tr>\n",
       "      <th>...</th>\n",
       "      <td>...</td>\n",
       "      <td>...</td>\n",
       "      <td>...</td>\n",
       "      <td>...</td>\n",
       "      <td>...</td>\n",
       "      <td>...</td>\n",
       "    </tr>\n",
       "    <tr>\n",
       "      <th>1499995</th>\n",
       "      <td>0.757698</td>\n",
       "      <td>1.754191</td>\n",
       "      <td>2.307193</td>\n",
       "      <td>0.607563</td>\n",
       "      <td>-0.873720</td>\n",
       "      <td>151.977919</td>\n",
       "    </tr>\n",
       "    <tr>\n",
       "      <th>1499996</th>\n",
       "      <td>-1.264202</td>\n",
       "      <td>-0.694934</td>\n",
       "      <td>-0.555368</td>\n",
       "      <td>-0.992092</td>\n",
       "      <td>-0.445643</td>\n",
       "      <td>-135.120541</td>\n",
       "    </tr>\n",
       "    <tr>\n",
       "      <th>1499997</th>\n",
       "      <td>-0.066262</td>\n",
       "      <td>0.285042</td>\n",
       "      <td>-1.808039</td>\n",
       "      <td>0.536464</td>\n",
       "      <td>1.014574</td>\n",
       "      <td>29.164973</td>\n",
       "    </tr>\n",
       "    <tr>\n",
       "      <th>1499998</th>\n",
       "      <td>0.607030</td>\n",
       "      <td>1.656807</td>\n",
       "      <td>-0.792524</td>\n",
       "      <td>2.217787</td>\n",
       "      <td>0.357740</td>\n",
       "      <td>209.711065</td>\n",
       "    </tr>\n",
       "    <tr>\n",
       "      <th>1499999</th>\n",
       "      <td>0.202975</td>\n",
       "      <td>0.061917</td>\n",
       "      <td>-0.883371</td>\n",
       "      <td>-1.218598</td>\n",
       "      <td>-0.570011</td>\n",
       "      <td>-130.282256</td>\n",
       "    </tr>\n",
       "  </tbody>\n",
       "</table>\n",
       "<p>1500000 rows × 6 columns</p>\n",
       "</div>"
      ],
      "text/plain": [
       "                0         1         2         3         4           0\n",
       "0       -1.085631  0.997345  0.282978 -1.506295 -0.578600  -85.398884\n",
       "1        1.651437 -2.426679 -0.428913  1.265936 -0.866740  -39.874226\n",
       "2       -0.678886 -0.094709  1.491390 -0.638902 -0.443982  -21.669375\n",
       "3       -0.434351  2.205930  2.186786  1.004054  0.386186  233.417683\n",
       "4        0.737369  1.490732 -0.935834  1.175829 -1.253881   67.907278\n",
       "...           ...       ...       ...       ...       ...         ...\n",
       "1499995  0.757698  1.754191  2.307193  0.607563 -0.873720  151.977919\n",
       "1499996 -1.264202 -0.694934 -0.555368 -0.992092 -0.445643 -135.120541\n",
       "1499997 -0.066262  0.285042 -1.808039  0.536464  1.014574   29.164973\n",
       "1499998  0.607030  1.656807 -0.792524  2.217787  0.357740  209.711065\n",
       "1499999  0.202975  0.061917 -0.883371 -1.218598 -0.570011 -130.282256\n",
       "\n",
       "[1500000 rows x 6 columns]"
      ]
     },
     "execution_count": 15,
     "metadata": {},
     "output_type": "execute_result"
    }
   ],
   "source": [
    "df_X = pd.DataFrame(X)\n",
    "df_Y = pd.DataFrame(Y)\n",
    "df = pd.concat([df_X,df_Y], axis = 1)\n",
    "df"
   ]
  },
  {
   "cell_type": "code",
   "execution_count": 16,
   "id": "a04f9791",
   "metadata": {},
   "outputs": [],
   "source": [
    "df.to_csv('Input data.csv')"
   ]
  },
  {
   "cell_type": "code",
   "execution_count": null,
   "id": "ac9b5e19",
   "metadata": {},
   "outputs": [],
   "source": [
    " "
   ]
  }
 ],
 "metadata": {
  "kernelspec": {
   "display_name": "Python 3 (ipykernel)",
   "language": "python",
   "name": "python3"
  },
  "language_info": {
   "codemirror_mode": {
    "name": "ipython",
    "version": 3
   },
   "file_extension": ".py",
   "mimetype": "text/x-python",
   "name": "python",
   "nbconvert_exporter": "python",
   "pygments_lexer": "ipython3",
   "version": "3.9.7"
  }
 },
 "nbformat": 4,
 "nbformat_minor": 5
}
